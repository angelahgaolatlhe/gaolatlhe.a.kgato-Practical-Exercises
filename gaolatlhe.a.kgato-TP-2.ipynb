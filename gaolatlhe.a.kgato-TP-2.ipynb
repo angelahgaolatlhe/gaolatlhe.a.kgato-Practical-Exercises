{
 "cells": [
  {
   "cell_type": "markdown",
   "id": "d68c1dee",
   "metadata": {
    "id": "d68c1dee"
   },
   "source": [
    "# Practical_2: String and files"
   ]
  },
  {
   "cell_type": "markdown",
   "id": "7bcec714",
   "metadata": {
    "id": "bea983a3"
   },
   "source": [
    "---\n",
    "\n",
    "### Exercise 1:\n",
    "Create a string variable `text` and assign it the value `\"Python is amazing!\"`.\n"
   ]
  },
  {
   "cell_type": "code",
   "execution_count": 3,
   "id": "861fd98b",
   "metadata": {},
   "outputs": [],
   "source": [
    "text = '\"Python is amazing!\"'"
   ]
  },
  {
   "cell_type": "markdown",
   "id": "26a53cd7",
   "metadata": {
    "id": "bea983a3"
   },
   "source": [
    "---\n",
    "\n",
    "### Exercise 2:\n",
    "Find the length of the string `\"Hello, World!\"` and store it in a variable `length`."
   ]
  },
  {
   "cell_type": "code",
   "execution_count": 26,
   "id": "f5a8e450",
   "metadata": {},
   "outputs": [
    {
     "data": {
      "text/plain": [
       "13"
      ]
     },
     "execution_count": 26,
     "metadata": {},
     "output_type": "execute_result"
    }
   ],
   "source": [
    "length = \"Hello, World!\"\n",
    "\n",
    "len(length)"
   ]
  },
  {
   "cell_type": "markdown",
   "id": "d6748f87",
   "metadata": {
    "id": "bea983a3"
   },
   "source": [
    "---\n",
    "\n",
    "### Exercise 3:\n",
    "Convert the string `\"python programming\"` to uppercase and store it in a variable `upper_text`."
   ]
  },
  {
   "cell_type": "code",
   "execution_count": 7,
   "id": "25c732ac",
   "metadata": {},
   "outputs": [
    {
     "data": {
      "text/plain": [
       "'PYTHON PROGRAMMING'"
      ]
     },
     "execution_count": 7,
     "metadata": {},
     "output_type": "execute_result"
    }
   ],
   "source": [
    "lower_text = \"python programming\"\n",
    "upper_text = lower_text.upper()\n",
    "\n",
    "upper_text"
   ]
  },
  {
   "cell_type": "markdown",
   "id": "6ef9abff",
   "metadata": {
    "id": "bea983a3"
   },
   "source": [
    "---\n",
    "\n",
    "### Exercise 4:\n",
    "Extract the first 5 characters from the string `\"Artificial Intelligence\"`."
   ]
  },
  {
   "cell_type": "code",
   "execution_count": 9,
   "id": "3fc7212e",
   "metadata": {},
   "outputs": [
    {
     "data": {
      "text/plain": [
       "'Artif'"
      ]
     },
     "execution_count": 9,
     "metadata": {},
     "output_type": "execute_result"
    }
   ],
   "source": [
    "string = \"Artificial Intelligence\"\n",
    "\n",
    "string[0:5]"
   ]
  },
  {
   "cell_type": "markdown",
   "id": "179fb832",
   "metadata": {
    "id": "bea983a3"
   },
   "source": [
    "---\n",
    "\n",
    "### Exercise 5:\n",
    "Concatenate the strings `\"Hello\"` and `\"World\"` with a space in between."
   ]
  },
  {
   "cell_type": "code",
   "execution_count": 12,
   "id": "6212a875",
   "metadata": {},
   "outputs": [
    {
     "data": {
      "text/plain": [
       "'Hello World'"
      ]
     },
     "execution_count": 12,
     "metadata": {},
     "output_type": "execute_result"
    }
   ],
   "source": [
    "string_1 = \"Hello\"\n",
    "string_2 = \"World\"\n",
    "string_3 = string_1 + \" \" + string_2\n",
    "\n",
    "string_3"
   ]
  },
  {
   "cell_type": "markdown",
   "id": "5b199c2f",
   "metadata": {
    "id": "bea983a3"
   },
   "source": [
    "---\n",
    "\n",
    "### Exercise 6:\n",
    "Replace the word `\"dog\"` with `\"cat\"` in the string `\"The quick brown dog jumps over the lazy dog.\"`."
   ]
  },
  {
   "cell_type": "code",
   "execution_count": 10,
   "id": "7f3852fa",
   "metadata": {},
   "outputs": [
    {
     "data": {
      "text/plain": [
       "'The quick brown cat jumps over the lazy cat.'"
      ]
     },
     "execution_count": 10,
     "metadata": {},
     "output_type": "execute_result"
    }
   ],
   "source": [
    "sentence = \"The quick brown dog jumps over the lazy dog.\" \n",
    "new_sentence = sentence.replace(\"dog\", \"cat\")\n",
    "\n",
    "new_sentence"
   ]
  },
  {
   "cell_type": "markdown",
   "id": "34b2a336",
   "metadata": {
    "id": "bea983a3"
   },
   "source": [
    "---\n",
    "\n",
    "### Exercise 7:\n",
    "Split the string `\"apple,banana,orange\"` by commas and store the result in a list `fruits_list`.\n"
   ]
  },
  {
   "cell_type": "code",
   "execution_count": 29,
   "id": "767ba9bc",
   "metadata": {},
   "outputs": [
    {
     "data": {
      "text/plain": [
       "('apple', 'banana', 'orange')"
      ]
     },
     "execution_count": 29,
     "metadata": {},
     "output_type": "execute_result"
    }
   ],
   "source": [
    "fruit_list = \"apple\", \"banana\", \"orange\"\n",
    "\n",
    "fruit_list"
   ]
  },
  {
   "cell_type": "markdown",
   "id": "324883ad",
   "metadata": {
    "id": "bea983a3"
   },
   "source": [
    "---\n",
    "\n",
    "### Exercise 8:\n",
    "Use string formatting to create the sentence `\"My name is Alice and I am 25 years old.\"`, where the name and age are variables."
   ]
  },
  {
   "cell_type": "code",
   "execution_count": 30,
   "id": "75c8e6e2",
   "metadata": {},
   "outputs": [
    {
     "name": "stdout",
     "output_type": "stream",
     "text": [
      "My name is Alice and I am 25 years old.\n"
     ]
    }
   ],
   "source": [
    "name = \"Alice\"\n",
    "age = 25\n",
    "\n",
    "print(\"My name is \" + name + \" and I am \" + str(age) + \" years old.\")\n"
   ]
  },
  {
   "cell_type": "markdown",
   "id": "dea4bafa",
   "metadata": {
    "id": "bea983a3"
   },
   "source": [
    "---\n",
    "\n",
    "### Exercise 9:\n",
    "Check if the string `\"python\"` is present in the sentence `\"I love python programming\"`."
   ]
  },
  {
   "cell_type": "code",
   "execution_count": 4,
   "id": "e698ef4a",
   "metadata": {},
   "outputs": [
    {
     "name": "stdout",
     "output_type": "stream",
     "text": [
      "Present\n"
     ]
    }
   ],
   "source": [
    "sentence_1 = \"I love python programming\"\n",
    "word = \"python\"\n",
    "\n",
    "if word in sentence_1:\n",
    "    print(\"Present\")\n",
    "    \n",
    "else:\n",
    "    print(\"Not present\")"
   ]
  },
  {
   "cell_type": "markdown",
   "id": "8b8e6ff3",
   "metadata": {
    "id": "bea983a3"
   },
   "source": [
    "---\n",
    "\n",
    "### Exercise 10:\n",
    "Count the number of occurrences of the letter `\"e\"` in the string `\"Elephant is an elegant animal\"`."
   ]
  },
  {
   "cell_type": "code",
   "execution_count": 46,
   "id": "6708fb7e",
   "metadata": {},
   "outputs": [
    {
     "data": {
      "text/plain": [
       "4"
      ]
     },
     "execution_count": 46,
     "metadata": {},
     "output_type": "execute_result"
    }
   ],
   "source": [
    "string = \"Elephant is an elegant animal\"\n",
    "letter =\"e\"\n",
    "\n",
    "string.lower().count(letter)"
   ]
  },
  {
   "cell_type": "markdown",
   "id": "212ce997",
   "metadata": {
    "id": "bea983a3"
   },
   "source": [
    "---\n",
    "\n",
    "### Exercise 11:\n",
    "Remove any leading and trailing spaces from the string `\"   Data Science   \"`."
   ]
  },
  {
   "cell_type": "code",
   "execution_count": 25,
   "id": "9cb7ac83",
   "metadata": {},
   "outputs": [
    {
     "data": {
      "text/plain": [
       "'Data Science'"
      ]
     },
     "execution_count": 25,
     "metadata": {},
     "output_type": "execute_result"
    }
   ],
   "source": [
    "string = \"   Data Science   \"\n",
    "\n",
    "string.strip()"
   ]
  },
  {
   "cell_type": "markdown",
   "id": "7bbc2dc5",
   "metadata": {
    "id": "bea983a3"
   },
   "source": [
    "---\n",
    "\n",
    "### Exercise 12:\n",
    "Convert the string `\"100\"` into an integer and store it in a variable `int_value`."
   ]
  },
  {
   "cell_type": "code",
   "execution_count": 11,
   "id": "bd711e38",
   "metadata": {},
   "outputs": [
    {
     "data": {
      "text/plain": [
       "100"
      ]
     },
     "execution_count": 11,
     "metadata": {},
     "output_type": "execute_result"
    }
   ],
   "source": [
    "string = \"100\"\n",
    "int_value = int(string)\n",
    "\n",
    "int_value"
   ]
  },
  {
   "cell_type": "code",
   "execution_count": 12,
   "id": "1c3f780c",
   "metadata": {},
   "outputs": [
    {
     "data": {
      "text/plain": [
       "int"
      ]
     },
     "execution_count": 12,
     "metadata": {},
     "output_type": "execute_result"
    }
   ],
   "source": [
    "type(int_value)"
   ]
  },
  {
   "cell_type": "markdown",
   "id": "48fbc476",
   "metadata": {
    "id": "bea983a3"
   },
   "source": [
    "---\n",
    "\n",
    "### Exercise 13:\n",
    "Extract the substring `\"pro\"` from the string `\"programming\"`."
   ]
  },
  {
   "cell_type": "code",
   "execution_count": 23,
   "id": "9546f3e2",
   "metadata": {},
   "outputs": [
    {
     "data": {
      "text/plain": [
       "'pro'"
      ]
     },
     "execution_count": 23,
     "metadata": {},
     "output_type": "execute_result"
    }
   ],
   "source": [
    "string = \"programming\"\n",
    "\n",
    "string[0:3]"
   ]
  },
  {
   "cell_type": "markdown",
   "id": "85446ef9",
   "metadata": {
    "id": "bea983a3"
   },
   "source": [
    "---\n",
    "\n",
    "### Exercise 14:\n",
    "Check if the string `\"data\"` starts with `\"da\"` and ends with `\"ta\"`."
   ]
  },
  {
   "cell_type": "code",
   "execution_count": 51,
   "id": "c635a81d",
   "metadata": {},
   "outputs": [
    {
     "data": {
      "text/plain": [
       "True"
      ]
     },
     "execution_count": 51,
     "metadata": {},
     "output_type": "execute_result"
    }
   ],
   "source": [
    "string =\"data\"\n",
    "\n",
    "string.startswith(\"da\")\n",
    "string.endswith(\"ta\")"
   ]
  },
  {
   "cell_type": "markdown",
   "id": "52048141",
   "metadata": {
    "id": "bea983a3"
   },
   "source": [
    "---\n",
    "\n",
    "### Exercise 15:\n",
    "Reverse the string `\"machine learning\"` and store the result in `reversed_text`."
   ]
  },
  {
   "cell_type": "code",
   "execution_count": 13,
   "id": "3f54c14d",
   "metadata": {},
   "outputs": [
    {
     "data": {
      "text/plain": [
       "'gninrael enihcam'"
      ]
     },
     "execution_count": 13,
     "metadata": {},
     "output_type": "execute_result"
    }
   ],
   "source": [
    "string = \"machine learning\"\n",
    "reversed_string = string[::-1]\n",
    "\n",
    "reversed_string"
   ]
  },
  {
   "cell_type": "markdown",
   "id": "b9a3620d",
   "metadata": {
    "id": "bea983a3"
   },
   "source": [
    "---\n",
    "\n",
    "### Exercise 16:\n",
    "Convert the first letter of each word in the string `\"machine learning is fun\"` to uppercase."
   ]
  },
  {
   "cell_type": "code",
   "execution_count": 4,
   "id": "65399178",
   "metadata": {},
   "outputs": [
    {
     "data": {
      "text/plain": [
       "'Machine Learning Is Fun'"
      ]
     },
     "execution_count": 4,
     "metadata": {},
     "output_type": "execute_result"
    }
   ],
   "source": [
    "string = \"machine learning is fun\"\n",
    "string.title()"
   ]
  },
  {
   "cell_type": "markdown",
   "id": "62fb75bc",
   "metadata": {
    "id": "bea983a3"
   },
   "source": [
    "---\n",
    "\n",
    "### Exercise 17:\n",
    "Create a multiline string representing a poem and store it in a variable `poem`."
   ]
  },
  {
   "cell_type": "code",
   "execution_count": 7,
   "id": "eb480027",
   "metadata": {},
   "outputs": [
    {
     "data": {
      "text/plain": [
       "'If roses are red, violets are blue. Python please be nice to me.'"
      ]
     },
     "execution_count": 7,
     "metadata": {},
     "output_type": "execute_result"
    }
   ],
   "source": [
    "poem = \"\"\"If roses are red, violets are blue. Python please be nice to me.\"\"\"\n",
    "\n",
    "poem"
   ]
  },
  {
   "cell_type": "markdown",
   "id": "196dfd25",
   "metadata": {
    "id": "bea983a3"
   },
   "source": [
    "---\n",
    "\n",
    "### Exercise 18:\n",
    "Write a string to a file named `\"output.txt\"`."
   ]
  },
  {
   "cell_type": "code",
   "execution_count": 45,
   "id": "57ebf919",
   "metadata": {},
   "outputs": [],
   "source": [
    "file = open('output.txt', 'w')\n",
    "file.write('Bonjour!')\n",
    "file.close()"
   ]
  },
  {
   "cell_type": "markdown",
   "id": "56b118b6",
   "metadata": {
    "id": "bea983a3"
   },
   "source": [
    "---\n",
    "\n",
    "### Exercise 19:\n",
    "Read the contents of a file named `\"data.txt\"` and print it line by line."
   ]
  },
  {
   "cell_type": "code",
   "execution_count": 8,
   "id": "b0720b1a",
   "metadata": {},
   "outputs": [
    {
     "name": "stdout",
     "output_type": "stream",
     "text": [
      "line 1\n",
      "\n",
      "line 2\n",
      "\n",
      "line 3\n"
     ]
    }
   ],
   "source": [
    "with open(\"data.txt\", \"w\") as f:\n",
    "    f.write(\"line 1\\nline 2\\nline 3\")\n",
    "    \n",
    "with open(\"data.txt\") as f:\n",
    "    for i in f:\n",
    "        print(i)"
   ]
  },
  {
   "cell_type": "markdown",
   "id": "3ba17c88",
   "metadata": {
    "id": "bea983a3"
   },
   "source": [
    "---\n",
    "\n",
    "### Exercise 20:\n",
    "Check if a file `\"example.txt\"` exists before opening it."
   ]
  },
  {
   "cell_type": "code",
   "execution_count": 7,
   "id": "88c5810b",
   "metadata": {},
   "outputs": [
    {
     "name": "stdout",
     "output_type": "stream",
     "text": [
      "The file 'example.txt' does not exist.\n"
     ]
    }
   ],
   "source": [
    "import os\n",
    "\n",
    "filename = \"example.txt\"\n",
    "\n",
    "if os.path.exists(filename):\n",
    "    with open(filename, \"r\") as file:\n",
    "        content = file.read()\n",
    "        print(\"File content:\")\n",
    "        print(content)\n",
    "else:\n",
    "    print(f\"The file '{filename}' does not exist.\")"
   ]
  },
  {
   "cell_type": "markdown",
   "id": "d37d348d",
   "metadata": {
    "id": "bea983a3"
   },
   "source": [
    "---\n",
    "\n",
    "### Exercise 21:\n",
    "Append a new line `\"This is a new line\"` to an existing file `\"notes.txt\"`."
   ]
  },
  {
   "cell_type": "code",
   "execution_count": 9,
   "id": "0a5de0a1",
   "metadata": {},
   "outputs": [],
   "source": [
    "file = open(\"notes.txt\", 'a')\n",
    "file.write(\"This is a new line.\")\n",
    "file.close()"
   ]
  },
  {
   "cell_type": "markdown",
   "id": "1338ff9f",
   "metadata": {
    "id": "bea983a3"
   },
   "source": [
    "---\n",
    "\n",
    "### Exercise 22:\n",
    "Read the contents of a file `\"log.txt\"` and store each line in a list `log_lines`."
   ]
  },
  {
   "cell_type": "code",
   "execution_count": 10,
   "id": "ab92566b",
   "metadata": {},
   "outputs": [
    {
     "name": "stdout",
     "output_type": "stream",
     "text": [
      "['First line\\n', 'Second line\\n', 'Third line']\n"
     ]
    }
   ],
   "source": [
    "with open(\"log.txt\", \"w\") as f:\n",
    "    f.write(\"First line\\nSecond line\\nThird line\")\n",
    "\n",
    "file = open(\"log.txt\", \"r\")\n",
    "log_lines = file.readlines()\n",
    "print(log_lines)\n",
    "file.close()"
   ]
  },
  {
   "cell_type": "markdown",
   "id": "8a9e99d1",
   "metadata": {
    "id": "bea983a3"
   },
   "source": [
    "---\n",
    "\n",
    "### Exercise 23:\n",
    "Create a new file `\"report.txt\"` and write the string `\"Data analysis report\"` to it."
   ]
  },
  {
   "cell_type": "code",
   "execution_count": 44,
   "id": "aa539d11",
   "metadata": {},
   "outputs": [],
   "source": [
    "with open(\"report.txt\", 'w') as file:\n",
    "    file.write(\"Data analysis report\")"
   ]
  },
  {
   "cell_type": "markdown",
   "id": "6199dac7",
   "metadata": {
    "id": "bea983a3"
   },
   "source": [
    "### Exercise 24:\n",
    "Replace the word `\"error\"` with `\"issue\"` in a file `\"log.txt\"`."
   ]
  },
  {
   "cell_type": "code",
   "execution_count": 12,
   "id": "f1f8084a",
   "metadata": {},
   "outputs": [
    {
     "name": "stdout",
     "output_type": "stream",
     "text": [
      "'error' have been replaced with 'issue'\n"
     ]
    }
   ],
   "source": [
    "import os\n",
    "\n",
    "filename = \"log.txt\"\n",
    "\n",
    "if os.path.exists(filename):\n",
    "   \n",
    "    with open(filename, \"r\") as file:\n",
    "        content = file.read()\n",
    "    \n",
    "    updated_content = content.replace(\"error\", \"issue\")\n",
    "    \n",
    "    with open(filename, \"w\") as file:\n",
    "        file.write(updated_content)\n",
    "    \n",
    "    print(\"'error' have been replaced with 'issue'\")\n",
    "else:\n",
    "    \n",
    "    with open(filename, \"w\") as file:\n",
    "        file.write(\"No errors found\")\n",
    "    \n",
    "    print(f\"{filename}has been created.\")"
   ]
  },
  {
   "cell_type": "markdown",
   "id": "72b3da0e",
   "metadata": {},
   "source": [
    "### Exercise 25:\n",
    "Count the number of words in a text file `\"document.txt\"`."
   ]
  },
  {
   "cell_type": "code",
   "execution_count": 16,
   "id": "55b80eb9",
   "metadata": {},
   "outputs": [
    {
     "name": "stdout",
     "output_type": "stream",
     "text": [
      "document.txt contains 7 words.\n"
     ]
    }
   ],
   "source": [
    "filename = \"document.txt\"\n",
    "\n",
    "with open(filename, \"w\") as f:\n",
    "    f.write(\"These are the contents of the file\")\n",
    "\n",
    "with open(filename, \"r\") as f:\n",
    "    word_count = len(f.read().split())\n",
    "\n",
    "print(f\"{filename} contains {word_count} words.\")"
   ]
  },
  {
   "cell_type": "markdown",
   "id": "e97b17fc",
   "metadata": {
    "id": "bea983a3"
   },
   "source": [
    "---\n",
    "\n",
    "### Exercise 26:\n",
    "Write a Python script that reads a file `\"essay.txt\"` and prints the total number of lines, words, and characters."
   ]
  },
  {
   "cell_type": "code",
   "execution_count": 18,
   "id": "02b77cf4",
   "metadata": {},
   "outputs": [
    {
     "name": "stdout",
     "output_type": "stream",
     "text": [
      "Lines: 3\n",
      "Words: 6\n",
      "Characters: 33\n"
     ]
    }
   ],
   "source": [
    "import os\n",
    "\n",
    "filename = \"essay.txt\"\n",
    "\n",
    "# Check if the file exists before reading\n",
    "if os.path.exists(filename):\n",
    "    with open(filename, \"r\") as file:\n",
    "        content = file.read()\n",
    "\n",
    "lines = content.splitlines()\n",
    "words = content.split()\n",
    "characters = len(content)\n",
    "\n",
    "print(f\"Lines: {len(lines)}\")\n",
    "print(f\"Words: {len(words)}\") \n",
    "print(f\"Characters: {characters}\")"
   ]
  },
  {
   "cell_type": "markdown",
   "id": "94a987eb",
   "metadata": {
    "id": "bea983a3"
   },
   "source": [
    "---\n",
    "\n",
    "### Exercise 27:\n",
    "Copy the contents of one file `\"source.txt\"` to another file `\"destination.txt\"`."
   ]
  },
  {
   "cell_type": "code",
   "execution_count": 43,
   "id": "21612743",
   "metadata": {
    "id": "bea983a3"
   },
   "outputs": [
    {
     "name": "stdout",
     "output_type": "stream",
     "text": [
      "The source file 'source.txt' does not exist.\n"
     ]
    }
   ],
   "source": [
    "import os\n",
    "\n",
    "source = \"source.txt\"\n",
    "destination = \"destination.txt\"\n",
    "\n",
    "if os.path.exists(source):\n",
    "\n",
    "    with open(source, \"r\"), open(destination, \"w\"):\n",
    "        content = source.read()\n",
    "        destination.write(content)\n",
    "    \n",
    "    print(f\"Contents of '{source}' have been successfully copied to '{destination}'.\")\n",
    "else:\n",
    "    print(f\"The source file '{source}' does not exist.\")"
   ]
  },
  {
   "cell_type": "markdown",
   "id": "ecf10d41",
   "metadata": {
    "id": "bea983a3"
   },
   "source": [
    "---\n",
    "\n",
    "### Exercise 28:\n",
    "Write a Python function that takes a filename as input and returns the number of lines in the file."
   ]
  },
  {
   "cell_type": "code",
   "execution_count": 42,
   "id": "6c34e020",
   "metadata": {},
   "outputs": [],
   "source": [
    "import os\n",
    "def line_count(file_name):\n",
    "    if os.path.exists(file_name):\n",
    "        with open(file_name, 'r') as file:\n",
    "            lines = file.readlines()\n",
    "        return len(lines)"
   ]
  },
  {
   "cell_type": "markdown",
   "id": "4b07961a",
   "metadata": {
    "id": "bea983a3"
   },
   "source": [
    "---\n",
    "\n",
    "### Exercise 29:\n",
    "Extract all the words from a text file `\"article.txt\"` that contain more than 5 characters."
   ]
  },
  {
   "cell_type": "code",
   "execution_count": 41,
   "id": "1247d9c2",
   "metadata": {
    "id": "bea983a3"
   },
   "outputs": [
    {
     "name": "stdout",
     "output_type": "stream",
     "text": [
      "Words with more than 5 characters: ['Inserts', 'article', 'article']\n"
     ]
    }
   ],
   "source": [
    "with open(\"article.txt\", \"w\") as f:\n",
    "    f.write(\"Inserts an article in this article\")\n",
    "\n",
    "with open(\"article.txt\") as f:\n",
    "    words = f.read().split()\n",
    "    long_words = [word for word in words if len(word) > 5]\n",
    "\n",
    "print(\"Words with more than 5 characters:\", long_words)"
   ]
  },
  {
   "cell_type": "markdown",
   "id": "e93619a8",
   "metadata": {
    "id": "bea983a3"
   },
   "source": [
    "---\n",
    "\n",
    "### Exercise 30:\n",
    "Convert the contents of a file `\"notes.txt\"` to uppercase and save the result in another file `\"uppercase_notes.txt\"`."
   ]
  },
  {
   "cell_type": "code",
   "execution_count": 39,
   "id": "35259b23",
   "metadata": {},
   "outputs": [
    {
     "name": "stdout",
     "output_type": "stream",
     "text": [
      "Contents converted to uppercase and saved in uppercase_notes.txt\n"
     ]
    }
   ],
   "source": [
    "import os\n",
    "file1 = \"notes.txt\"\n",
    "if os.path.exists(file1):\n",
    "    with open(file1, 'r') as file:\n",
    "        content = file.read()\n",
    "        uppercase_content = content.upper()\n",
    "        saved_file = \"uppercase_notes.txt\"\n",
    "        with open(saved_file, 'w') as new_file:\n",
    "            new_file.write(uppercase_content)\n",
    "    print(\"Contents converted to uppercase and saved in \" + saved_file)"
   ]
  },
  {
   "cell_type": "markdown",
   "id": "3826af7a",
   "metadata": {
    "id": "bea983a3"
   },
   "source": [
    "---\n",
    "\n",
    "### Exercise 31:\n",
    "Write a Python script that reads a file and removes all empty lines."
   ]
  },
  {
   "cell_type": "code",
   "execution_count": 38,
   "id": "cd17f6ed",
   "metadata": {},
   "outputs": [
    {
     "name": "stdout",
     "output_type": "stream",
     "text": [
      "This is the message\n"
     ]
    }
   ],
   "source": [
    "with open(\"message.txt\", 'r') as file:\n",
    "    texts = file.readlines()\n",
    "    for line in texts:\n",
    "        print(line.strip())    "
   ]
  },
  {
   "cell_type": "markdown",
   "id": "3930df27",
   "metadata": {
    "id": "bea983a3"
   },
   "source": [
    "---\n",
    "\n",
    "### Exercise 32:\n",
    "Open a file `\"config.txt\"` in both read and write mode."
   ]
  },
  {
   "cell_type": "code",
   "execution_count": 37,
   "id": "8d4dc516",
   "metadata": {},
   "outputs": [
    {
     "name": "stdout",
     "output_type": "stream",
     "text": [
      "initial configuration\n",
      "\n"
     ]
    }
   ],
   "source": [
    "with open(\"config.txt\", \"w\") as file:\n",
    "    file.write(\"initial configuration\\n\")\n",
    "\n",
    "with open(\"config.txt\", \"r+\") as file:\n",
    "    content = file.read()\n",
    "    print(content)\n",
    "    \n",
    "    file.write(\"new configuration added\\n\")"
   ]
  },
  {
   "cell_type": "markdown",
   "id": "ac12847c",
   "metadata": {
    "id": "bea983a3"
   },
   "source": [
    "---\n",
    "\n",
    "### Exercise 33:\n",
    "Write a Python function that reads a file and prints the longest line in the file."
   ]
  },
  {
   "cell_type": "code",
   "execution_count": 33,
   "id": "ce15c132",
   "metadata": {},
   "outputs": [
    {
     "data": {
      "text/plain": [
       "'These are the contents of the file'"
      ]
     },
     "execution_count": 33,
     "metadata": {},
     "output_type": "execute_result"
    }
   ],
   "source": [
    "def read_longest_line(path = \"document.txt\"):\n",
    "    longest_line = \"\"\n",
    "    with open(path, \"r\") as file:\n",
    "        for line in file:\n",
    "            if len(line) > len(longest_line):\n",
    "                longest_line = line\n",
    "            else:\n",
    "                continue\n",
    "    return longest_line.rstrip()\n",
    "read_longest_line(path = \"document.txt\")"
   ]
  },
  {
   "cell_type": "markdown",
   "id": "a2371eaf",
   "metadata": {
    "id": "bea983a3"
   },
   "source": [
    "---\n",
    "\n",
    "### Exercise 34:\n",
    "Write a Python script to count the frequency of each letter in a text file `\"message.txt\"`."
   ]
  },
  {
   "cell_type": "code",
   "execution_count": 27,
   "id": "454e86c2",
   "metadata": {},
   "outputs": [
    {
     "name": "stdout",
     "output_type": "stream",
     "text": [
      "a: 1\n",
      "e: 3\n",
      "g: 1\n",
      "h: 2\n",
      "i: 2\n",
      "m: 1\n",
      "s: 4\n",
      "t: 2\n"
     ]
    }
   ],
   "source": [
    "with open(\"message.txt\", \"w\") as f:\n",
    "    f.write(\"This is the message\")\n",
    "\n",
    "count_freq = {}\n",
    "with open(\"message.txt\") as f:\n",
    "    for char in f.read().lower():\n",
    "        if char.isalpha():\n",
    "            count_freq[char] = count_freq.get(char, 0) + 1\n",
    "\n",
    "for letter, count in sorted(count_freq.items()):\n",
    "    print(f\"{letter}: {count}\")"
   ]
  },
  {
   "cell_type": "markdown",
   "id": "53299fa0",
   "metadata": {
    "id": "bea983a3"
   },
   "source": [
    "---\n",
    "\n",
    "### Exercise 35:\n",
    "Write a Python script that reads a file and prints the total number of characters, excluding spaces."
   ]
  },
  {
   "cell_type": "code",
   "execution_count": 25,
   "id": "d663c6a6",
   "metadata": {},
   "outputs": [
    {
     "name": "stdout",
     "output_type": "stream",
     "text": [
      "28\n"
     ]
    }
   ],
   "source": [
    "with open(\"document.txt\", \"r\") as file:\n",
    "    my_text = file.read()\n",
    "    my_text_no_space = my_text.replace(\" \", \"\")\n",
    "    print(len(my_text_no_space))"
   ]
  },
  {
   "cell_type": "markdown",
   "id": "3afbd16c",
   "metadata": {
    "id": "bea983a3"
   },
   "source": [
    "---\n",
    "\n",
    "### Exercise 36:\n",
    "Create a Python script to check whether a file is empty or not."
   ]
  },
  {
   "cell_type": "code",
   "execution_count": 23,
   "id": "f5eb3f0d",
   "metadata": {},
   "outputs": [
    {
     "name": "stdout",
     "output_type": "stream",
     "text": [
      "The file is not empty.\n"
     ]
    }
   ],
   "source": [
    "import os\n",
    "file_path = \"document.txt\"\n",
    "if os.stat(file_path).st_size == 0:\n",
    "    print(\"The file is empty.\")\n",
    "else:\n",
    "    print(\"The file is not empty.\")"
   ]
  },
  {
   "cell_type": "markdown",
   "id": "4a6006f8",
   "metadata": {
    "id": "bea983a3"
   },
   "source": [
    "---\n",
    "\n",
    "### Exercise 37:\n",
    "Write a Python function that reads a file and removes all punctuation marks from the text."
   ]
  },
  {
   "cell_type": "code",
   "execution_count": null,
   "id": "bcd23c51",
   "metadata": {},
   "outputs": [],
   "source": [
    "import string\n",
    "def read_remove_punct(path=\"document.txt\"):\n",
    "    with open(path, \"r\") as file:\n",
    "        my_text = file.read()\n",
    "        my_text_no_punct = my_text.translate(str.maketrans(\"\", \"\", string.punctuation))\n",
    "        print(my_text_no_punct)\n",
    "        return my_text_no_punct"
   ]
  },
  {
   "cell_type": "markdown",
   "id": "3e010152",
   "metadata": {
    "id": "bea983a3"
   },
   "source": [
    "---\n",
    "\n",
    "### Exercise 38:\n",
    "Create a Python function that writes a list of strings to a file, each string on a new line."
   ]
  },
  {
   "cell_type": "code",
   "execution_count": null,
   "id": "b2cc6924",
   "metadata": {},
   "outputs": [],
   "source": [
    "def write_lstring_file(path_file, lines):\n",
    "    with open(path_file, \"w\") as file:\n",
    "        for line in lines:\n",
    "            string_in_new_line = line.write(line + \"\\n\")\n",
    "            print(string_in_new_line)\n",
    "        \n",
    "        return string_in_new_line"
   ]
  },
  {
   "cell_type": "markdown",
   "id": "d3766c77",
   "metadata": {
    "id": "bea983a3"
   },
   "source": [
    "---\n",
    "\n",
    "### Exercise 39:\n",
    "Write a Python script to count the number of lines that start with a specific letter (e.g., \"A\") in a text file."
   ]
  },
  {
   "cell_type": "code",
   "execution_count": null,
   "id": "e629201b",
   "metadata": {},
   "outputs": [],
   "source": [
    "letter_A = \"A\"\n",
    "\n",
    "with open(\"document.txt\", \"r\") as file:\n",
    "    lines = file.readlines()\n",
    "    # Initialize count for lines starting with letter_A\n",
    "    count = 0\n",
    "\n",
    "    # Go through each line\n",
    "    for line in lines:\n",
    "        if line.strip().startswith(letter_A):\n",
    "            count = count + 1\n",
    "    print(f\"Number of lines starting with '{letter_A}' is: {count}\")    "
   ]
  },
  {
   "cell_type": "markdown",
   "id": "a8b20e6b",
   "metadata": {
    "id": "bea983a3"
   },
   "source": [
    "---\n",
    "\n",
    "### Exercise 40:\n",
    "Write a Python function that takes a string as input and writes it to a file `\"output.txt\"` in reverse order."
   ]
  },
  {
   "cell_type": "code",
   "execution_count": null,
   "id": "6f7b94db",
   "metadata": {},
   "outputs": [],
   "source": [
    "def string_write_file(path_file, string):\n",
    "    path_file = \"output.txt\"\n",
    "    with open(path_file, \"w\") as file:\n",
    "        #reverse string before writing to file\n",
    "        reversed_string = string[::-1]\n",
    "        file.write(reversed_string)\n",
    "    print(f\"String written to {path_file} properly.\")\n",
    "    return string_write_file"
   ]
  },
  {
   "cell_type": "markdown",
   "id": "6035c910",
   "metadata": {
    "id": "bea983a3"
   },
   "source": [
    "---\n",
    "\n",
    "### Exercise 41:\n",
    "Write a Python script that reads a file and prints all the lines that contain the word `\"Python\"`.\n"
   ]
  },
  {
   "cell_type": "code",
   "execution_count": 21,
   "id": "2f8f4fc0",
   "metadata": {},
   "outputs": [],
   "source": [
    "word = \"Python\"\n",
    "with open(\"document.txt\", \"r\") as file:\n",
    "    content = file.readlines()\n",
    "    for line in content:\n",
    "        if word in line:\n",
    "            print(f\"The word '{word}' is found in the line: {line.strip()}\")"
   ]
  },
  {
   "cell_type": "markdown",
   "id": "ea4a93e3",
   "metadata": {
    "id": "bea983a3"
   },
   "source": [
    "---\n",
    "\n",
    "### Exercise 42:\n",
    "Write a Python script that opens a file and removes all numeric digits from the file's content."
   ]
  },
  {
   "cell_type": "code",
   "execution_count": null,
   "id": "96881d3f",
   "metadata": {},
   "outputs": [],
   "source": [
    "with open(\"document.txt\", \"r\") as file:\n",
    "    my_text = file.read()\n",
    "\n",
    "no_num_digits = \"\"\n",
    "for char in my_text:\n",
    "    if not char.isdigit():\n",
    "        no_num_digits = no_num_digits + char\n",
    "    \n",
    "print(\"The modified text without numeric digits is: {no_mum_digits}\")   "
   ]
  },
  {
   "cell_type": "markdown",
   "id": "5358eb07",
   "metadata": {
    "id": "bea983a3"
   },
   "source": [
    "---\n",
    "\n",
    "### Exercise 43:\n",
    "Write a Python script to find the most frequent word in a text file `\"book.txt\"`.\n"
   ]
  },
  {
   "cell_type": "code",
   "execution_count": null,
   "id": "86d095e9",
   "metadata": {},
   "outputs": [],
   "source": [
    "with open(\"book.txt\", \"r\") as file:\n",
    "    my_text = file.read()\n",
    "    my_text = my_text.lower()\n",
    "\n",
    "    split_my_text = my_text.split()\n",
    "\n",
    "    word_count = {}\n",
    "    for word in split_my_text:\n"
   ]
  },
  {
   "cell_type": "markdown",
   "id": "4c9e4aac",
   "metadata": {
    "id": "bea983a3"
   },
   "source": [
    "---\n",
    "\n",
    "### Exercise 44:\n",
    "Write a Python script that reads a file and prints all the lines that contain exactly 5 words."
   ]
  },
  {
   "cell_type": "code",
   "execution_count": null,
   "id": "dd8d01b8",
   "metadata": {},
   "outputs": [],
   "source": [
    "with open(\"document.txt\", \"r\") as file:\n",
    "    lines = file.readlines()\n",
    "\n",
    "    for line in lines:\n",
    "        if len(line) == 5:\n",
    "            print(line.strip())"
   ]
  },
  {
   "cell_type": "markdown",
   "id": "08d3f3af",
   "metadata": {
    "id": "bea983a3"
   },
   "source": [
    "---\n",
    "\n",
    "### Exercise 45:\n",
    "Write a Python script to read a file and print the first and last line of the file."
   ]
  },
  {
   "cell_type": "code",
   "execution_count": null,
   "id": "d53d33ab",
   "metadata": {},
   "outputs": [],
   "source": [
    "with open(\"document.txt\", \"r\") as file:\n",
    "   lines = file.readllines()\n",
    "if lines:\n",
    "    print(\"The first line of the file:\", {lines[0].strip()})\n",
    "    print(\"The last line of the file is:\", lines[-1].strip())\n",
    "\n",
    "else:\n",
    "    print(\"The file is emppty.\")\n"
   ]
  },
  {
   "cell_type": "markdown",
   "id": "71f1c180",
   "metadata": {
    "id": "bea983a3"
   },
   "source": [
    "---\n",
    "\n",
    "### Exercise 46:\n",
    "Write a Python script that checks if a file `\"students.txt\"` is writable.\n"
   ]
  },
  {
   "cell_type": "code",
   "execution_count": null,
   "id": "a6747b50",
   "metadata": {},
   "outputs": [],
   "source": [
    "my_file = open(\"document.txt\", \"r+\")\n",
    "\n",
    "if my_file.writable():\n",
    "    print(\"My file is writable.\")\n",
    "\n",
    "else:\n",
    "    print(\"My file is not writable.\")"
   ]
  },
  {
   "cell_type": "markdown",
   "id": "9a8071bb",
   "metadata": {
    "id": "bea983a3"
   },
   "source": [
    "---\n",
    "\n",
    "### Exercise 47:\n",
    "Create a Python function that opens a file and returns the number of unique words in the file.\n"
   ]
  },
  {
   "cell_type": "code",
   "execution_count": null,
   "id": "6595156c",
   "metadata": {},
   "outputs": [],
   "source": [
    "def unique_words_count(path=\"document.txt\"):\n",
    "    with open(path, \"r\") as file:\n",
    "        my_text = file.read()\n",
    "\n",
    "        split_my_text = my_text.split()\n",
    "\n",
    "        unique_words = set(split_my_text)\n",
    "\n",
    "        count_unique_words = len(unique_words)\n",
    "        print(f\"Number of unique words in the file is: {count_unique_words}\")\n",
    "        return count_unique_words"
   ]
  },
  {
   "cell_type": "markdown",
   "id": "9f15889e",
   "metadata": {
    "id": "bea983a3"
   },
   "source": [
    "---\n",
    "\n",
    "### Exercise 48:\n",
    "Write a Python script that reads a file and prints all lines in reverse order.\n"
   ]
  },
  {
   "cell_type": "code",
   "execution_count": null,
   "id": "5fe689ba",
   "metadata": {},
   "outputs": [],
   "source": [
    "with open(\"document.txt\", \"r\") as file:\n",
    "    lines = file.readlines()\n",
    "    reversed_lines = lines[::-1]\n",
    "\n",
    "    print(\"The reversed file is:\", reversed_lines)"
   ]
  },
  {
   "cell_type": "markdown",
   "id": "9b3a7d5b",
   "metadata": {
    "id": "bea983a3"
   },
   "source": [
    "---\n",
    "\n",
    "### Exercise 49:\n",
    "Write a Python function that reads a file and returns the most common letter in the text.\n"
   ]
  },
  {
   "cell_type": "code",
   "execution_count": 20,
   "id": "b309c4c5",
   "metadata": {},
   "outputs": [],
   "source": [
    "def most_letter(path=\"document.txt\"):\n",
    "    letter_count = {}\n",
    "    with open(path, \"r\") as file:\n",
    "        my_text = file.read()\n",
    "        for letter in my_text:\n",
    "            if letter.isalpha():  \n",
    "                letter = letter.lower()\n",
    "                if letter in letter_count:\n",
    "                    letter_count[letter] = letter_count[letter] + 1 \n",
    "                else:\n",
    "                    letter_count[letter] = 1 \n",
    "\n",
    "    # Find the letter with the maximum count and its frequency\n",
    "    most_frequent_letter = max(letter_count, key=letter_count.get) #get the letter with max frequency\n",
    "    frequency = letter_count[most_frequent_letter] # get the frequency of that letter\n",
    "\n",
    "    print(f\"The most frequent letter in the text is '{most_frequent_letter}' with a frequency of {frequency}.\")\n",
    "    return most_frequent_letter, frequency"
   ]
  },
  {
   "cell_type": "markdown",
   "id": "bea983a3",
   "metadata": {
    "id": "bea983a3"
   },
   "source": [
    "---\n",
    "\n",
    "### Exercise 50:\n",
    "Write a Python script that reads a file and replaces every occurrence of `\"Python\"` with `\"Java\"`.\n"
   ]
  },
  {
   "cell_type": "code",
   "execution_count": 19,
   "id": "dcf6ca38",
   "metadata": {
    "id": "dcf6ca38"
   },
   "outputs": [],
   "source": [
    "with open(\"document.txt\", \"r\") as file:\n",
    "    lines = file.readlines()\n",
    "    string_word =  \"Python\"\n",
    "    string_java = \"Java\"\n",
    "    for line in lines:\n",
    "        if string_word in line:\n",
    "            # Replace with     string_java = \"Java\"\n",
    "            new_line = line.replace(string_word, string_java)\n",
    "            print(new_line.strip())\n"
   ]
  }
 ],
 "metadata": {
  "colab": {
   "provenance": []
  },
  "kernelspec": {
   "display_name": "Python 3 (ipykernel)",
   "language": "python",
   "name": "python3"
  },
  "language_info": {
   "codemirror_mode": {
    "name": "ipython",
    "version": 3
   },
   "file_extension": ".py",
   "mimetype": "text/x-python",
   "name": "python",
   "nbconvert_exporter": "python",
   "pygments_lexer": "ipython3",
   "version": "3.12.3"
  }
 },
 "nbformat": 4,
 "nbformat_minor": 5
}
