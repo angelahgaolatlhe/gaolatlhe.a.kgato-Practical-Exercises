{
 "cells": [
  {
   "cell_type": "markdown",
   "id": "d68c1dee",
   "metadata": {
    "id": "d68c1dee"
   },
   "source": [
    "# Practical_4: Flow control"
   ]
  },
  {
   "cell_type": "markdown",
   "id": "0420ff4b",
   "metadata": {
    "id": "bea983a3"
   },
   "source": [
    "---\n",
    "\n",
    "### Exercise 1:\n",
    "Write a Python program that checks if a number is positive or negative."
   ]
  },
  {
   "cell_type": "code",
   "execution_count": 3,
   "id": "623200d3",
   "metadata": {},
   "outputs": [
    {
     "name": "stdout",
     "output_type": "stream",
     "text": [
      "Enter a number: 0\n",
      "0 is zero\n"
     ]
    }
   ],
   "source": [
    "number = int(input(\"Enter a number: \"))\n",
    "\n",
    "if number < 0:\n",
    "    print(f\"{number} is negative\")\n",
    "elif number > 0:\n",
    "    print(f\"{number} is positive\")\n",
    "else:\n",
    "    print(f\"{number} is zero\")"
   ]
  },
  {
   "cell_type": "markdown",
   "id": "63fe4411",
   "metadata": {
    "id": "bea983a3"
   },
   "source": [
    "---\n",
    "\n",
    "### Exercise 2:\n",
    "Write a Python function that checks if a string starts with a vowel."
   ]
  },
  {
   "cell_type": "code",
   "execution_count": 9,
   "id": "f4f5d1ed",
   "metadata": {},
   "outputs": [
    {
     "name": "stdout",
     "output_type": "stream",
     "text": [
      "Enter a string: Zenith\n",
      "String starts with a consonant\n"
     ]
    }
   ],
   "source": [
    "string = str(input(\"Enter a string: \"))\n",
    "vowels = \"aeiouAEIOU\"\n",
    "\n",
    "if string[0] in vowels:\n",
    "    print(\"String starts with a vowel\")\n",
    "else:\n",
    "    print(\"String starts with a consonant\")"
   ]
  },
  {
   "cell_type": "markdown",
   "id": "9253a9ef",
   "metadata": {
    "id": "bea983a3"
   },
   "source": [
    "---\n",
    "\n",
    "### Exercise 3:\n",
    "Write a Python program that takes a list of integers and prints \"Even\" for each even number and \"Odd\" for each odd number."
   ]
  },
  {
   "cell_type": "code",
   "execution_count": 18,
   "id": "73d5bb22",
   "metadata": {},
   "outputs": [],
   "source": [
    "liste = []\n",
    "\n",
    "for i in liste:\n",
    "    if i % 2 == 0:\n",
    "        print(f\"{i} is even\")\n",
    "    else:\n",
    "        print(f\"{i} is odd\")"
   ]
  },
  {
   "cell_type": "markdown",
   "id": "d18a9228",
   "metadata": {
    "id": "bea983a3"
   },
   "source": [
    "---\n",
    "\n",
    "### Exercise 4:\n",
    "Write a Python program that checks if a given year is a leap year."
   ]
  },
  {
   "cell_type": "code",
   "execution_count": 21,
   "id": "906dcbaf",
   "metadata": {},
   "outputs": [
    {
     "name": "stdout",
     "output_type": "stream",
     "text": [
      "Enter a valid year: 1976\n",
      "1976 is a leap year\n"
     ]
    }
   ],
   "source": [
    "year = int(input(\"Enter a valid year: \"))\n",
    "\n",
    "if year%4 == 0:\n",
    "    print(f\"{year} is a leap year\")\n",
    "else:\n",
    "    print(f\"{year} is NOT a leap year\")"
   ]
  },
  {
   "cell_type": "markdown",
   "id": "a20971bd",
   "metadata": {
    "id": "bea983a3"
   },
   "source": [
    "---\n",
    "\n",
    "### Exercise 5:\n",
    "Write a Python function that checks if a number is divisible by both 3 and 5."
   ]
  },
  {
   "cell_type": "code",
   "execution_count": 2,
   "id": "808d7749",
   "metadata": {},
   "outputs": [
    {
     "name": "stdout",
     "output_type": "stream",
     "text": [
      "Enter a number: 30\n",
      "Number is divisible by both 3 and 5\n"
     ]
    }
   ],
   "source": [
    "number = int(input(\"Enter a number: \"))\n",
    "\n",
    "if number%15 == 0:\n",
    "    print(\"Number is divisible by both 3 and 5\")\n",
    "else:\n",
    "    print(\"Number is not divisible by atleast one of the numbers\")"
   ]
  },
  {
   "cell_type": "markdown",
   "id": "13abbc05",
   "metadata": {
    "id": "bea983a3"
   },
   "source": [
    "---\n",
    "\n",
    "### Exercise 6:\n",
    "Write a Python program that prints \"Hot\" if the temperature is above 30, \"Warm\" if it is between 15 and 30, and \"Cold\" if it is below 15."
   ]
  },
  {
   "cell_type": "code",
   "execution_count": 38,
   "id": "0b3cd057",
   "metadata": {},
   "outputs": [
    {
     "name": "stdout",
     "output_type": "stream",
     "text": [
      "Enter temperature value: 15\n",
      "Warm\n"
     ]
    }
   ],
   "source": [
    "temperature = float(input(\"Enter temperature value: \"))\n",
    "\n",
    "if temperature < 15:\n",
    "    print(\"Cold\")\n",
    "elif temperature > 30:\n",
    "    print(\"Hot\")\n",
    "else:\n",
    "    print(\"Warm\")"
   ]
  },
  {
   "cell_type": "markdown",
   "id": "5d2b00f7",
   "metadata": {
    "id": "bea983a3"
   },
   "source": [
    "---\n",
    "\n",
    "### Exercise 7:\n",
    "Write a Python program that checks if a string contains the letter 'a'."
   ]
  },
  {
   "cell_type": "code",
   "execution_count": 46,
   "id": "0b9c4439",
   "metadata": {},
   "outputs": [
    {
     "name": "stdout",
     "output_type": "stream",
     "text": [
      "Enter your string: Anne\n",
      "The string contains the letter 'a'.\n"
     ]
    }
   ],
   "source": [
    "string = input(\"Enter your string: \")\n",
    "\n",
    "if 'a' in string.lower():\n",
    "    print(\"The string contains the letter 'a'.\")\n",
    "else:\n",
    "    print(\"The string does not contain the letter 'a'.\")"
   ]
  },
  {
   "cell_type": "markdown",
   "id": "c514cf17",
   "metadata": {
    "id": "bea983a3"
   },
   "source": [
    "---\n",
    "\n",
    "### Exercise 8:\n",
    "Write a Python function that checks if two numbers are equal, or which one is larger."
   ]
  },
  {
   "cell_type": "code",
   "execution_count": 55,
   "id": "a13c0763",
   "metadata": {},
   "outputs": [
    {
     "name": "stdout",
     "output_type": "stream",
     "text": [
      "Enter first number: 6\n",
      "Enter first number: 3\n",
      "6 is larger than 3\n"
     ]
    }
   ],
   "source": [
    "number_1 = int(input(\"Enter first number: \"))\n",
    "number_2 = int(input(\"Enter first number: \"))\n",
    "\n",
    "def checker():\n",
    "    if number_1 == number_2:\n",
    "        print(\"The two numbers are equal\")\n",
    "    elif number_1 < number_2:\n",
    "        print(f\"{number_2} is larger than {number_1}\")\n",
    "    else:\n",
    "        print(f\"{number_1} is larger than {number_2}\")\n",
    "checker()"
   ]
  },
  {
   "cell_type": "markdown",
   "id": "51589611",
   "metadata": {
    "id": "bea983a3"
   },
   "source": [
    "---\n",
    "\n",
    "### Exercise 9:\n",
    "Write a Python program that checks if a list is empty."
   ]
  },
  {
   "cell_type": "code",
   "execution_count": 59,
   "id": "d79d7917",
   "metadata": {},
   "outputs": [
    {
     "name": "stdout",
     "output_type": "stream",
     "text": [
      "The list is empty\n"
     ]
    }
   ],
   "source": [
    "liste = []\n",
    "\n",
    "if len(liste) == 0:\n",
    "    print(\"The list is empty\")\n",
    "else:\n",
    "    print(\"The list is NOT  empty\")"
   ]
  },
  {
   "cell_type": "markdown",
   "id": "a39f3414",
   "metadata": {
    "id": "bea983a3"
   },
   "source": [
    "---\n",
    "\n",
    "### Exercise 10:\n",
    "Write a Python function that takes two strings and checks if they are anagrams."
   ]
  },
  {
   "cell_type": "code",
   "execution_count": 1,
   "id": "0e14aea4",
   "metadata": {},
   "outputs": [
    {
     "name": "stdout",
     "output_type": "stream",
     "text": [
      "Enter a word: Fried\n",
      "Enter another word: fired\n",
      "The two words are anagrams\n"
     ]
    }
   ],
   "source": [
    "# a word, phrase, or name formed by rearranging the letters of another\n",
    "\n",
    "string_1 = input(\"Enter a word: \")\n",
    "string_2 = input(\"Enter another word: \")\n",
    "\n",
    "def anagram_checker():\n",
    "    if sorted(string_1.lower()) == sorted(string_2.lower()):\n",
    "        print(\"The two words are anagrams\")\n",
    "    else:\n",
    "        print(\"The two words are NOT anagrams\")\n",
    "        \n",
    "anagram_checker()"
   ]
  },
  {
   "cell_type": "markdown",
   "id": "fe75e90e",
   "metadata": {
    "id": "bea983a3"
   },
   "source": [
    "---\n",
    "\n",
    "### Exercise 11:\n",
    "Write a Python program that checks if a number is prime."
   ]
  },
  {
   "cell_type": "code",
   "execution_count": 71,
   "id": "857b87d5",
   "metadata": {},
   "outputs": [
    {
     "name": "stdout",
     "output_type": "stream",
     "text": [
      "Enter a number: 15671\n",
      "15671 is a prime number\n"
     ]
    }
   ],
   "source": [
    "number = int(input(\"Enter a number: \"))\n",
    "\n",
    "if number == 1:\n",
    "    print(f\"{number} is not a prime number\")\n",
    "if number > 1:\n",
    "    for i in range(2,number):\n",
    "        if number % i == 0:\n",
    "            print(f\"{number} is not a prime number\")\n",
    "            break\n",
    "    else:\n",
    "        print(f\"{number} is a prime number\")"
   ]
  },
  {
   "cell_type": "markdown",
   "id": "346ed551",
   "metadata": {
    "id": "bea983a3"
   },
   "source": [
    "---\n",
    "\n",
    "### Exercise 12:\n",
    "Write a Python program that checks if a list of numbers is sorted in ascending order."
   ]
  },
  {
   "cell_type": "code",
   "execution_count": 126,
   "id": "69a7cddc",
   "metadata": {},
   "outputs": [
    {
     "name": "stdout",
     "output_type": "stream",
     "text": [
      "True\n"
     ]
    }
   ],
   "source": [
    "liste = [1, 2, 3, 5, 7]\n",
    "\n",
    "def is_sorted(liste):\n",
    "    for i in range(len(liste) - 1):\n",
    "        if liste[i] > liste[i + 1]:\n",
    "            return False\n",
    "    return True\n",
    "\n",
    "print(is_sorted(liste))"
   ]
  },
  {
   "cell_type": "markdown",
   "id": "41845f6c",
   "metadata": {
    "id": "bea983a3"
   },
   "source": [
    "---\n",
    "\n",
    "### Exercise 13:\n",
    "Write a Python function that takes a character and checks if it is a digit."
   ]
  },
  {
   "cell_type": "code",
   "execution_count": 122,
   "id": "42469ef2",
   "metadata": {},
   "outputs": [
    {
     "name": "stdout",
     "output_type": "stream",
     "text": [
      "Enter a character: 5\n"
     ]
    },
    {
     "data": {
      "text/plain": [
       "True"
      ]
     },
     "execution_count": 122,
     "metadata": {},
     "output_type": "execute_result"
    }
   ],
   "source": [
    "character = input(\"Enter a character: \")\n",
    "\n",
    "def is_digit_char(character):\n",
    "    return character.isdigit() if isinstance(character, str) and len(character)==1 else False\n",
    "\n",
    "is_digit_char(character)"
   ]
  },
  {
   "cell_type": "markdown",
   "id": "85823329",
   "metadata": {
    "id": "bea983a3"
   },
   "source": [
    "---\n",
    "\n",
    "### Exercise 14:\n",
    "Write a Python function that checks if a string contains only uppercase letters."
   ]
  },
  {
   "cell_type": "code",
   "execution_count": 15,
   "id": "c4606dc4",
   "metadata": {},
   "outputs": [
    {
     "name": "stdout",
     "output_type": "stream",
     "text": [
      "Enter your string: Angelah\n"
     ]
    },
    {
     "data": {
      "text/plain": [
       "False"
      ]
     },
     "execution_count": 15,
     "metadata": {},
     "output_type": "execute_result"
    }
   ],
   "source": [
    "string = input(\"Enter your string: \")\n",
    "\n",
    "string.isupper()"
   ]
  },
  {
   "cell_type": "markdown",
   "id": "aca16a68",
   "metadata": {
    "id": "bea983a3"
   },
   "source": [
    "---\n",
    "\n",
    "### Exercise 15:\n",
    "Write a Python program that checks if a number is a multiple of 10."
   ]
  },
  {
   "cell_type": "code",
   "execution_count": 19,
   "id": "8ffb40aa",
   "metadata": {},
   "outputs": [
    {
     "name": "stdout",
     "output_type": "stream",
     "text": [
      "Enter a number: 15\n",
      "15 is NOT a multiple of 10\n"
     ]
    }
   ],
   "source": [
    "number = int(input(\"Enter a number: \"))\n",
    "\n",
    "if number % 10 == 0:\n",
    "    print(f\"{number} is a multiple of 10\")\n",
    "else:\n",
    "    print(f\"{number} is NOT a multiple of 10\")"
   ]
  },
  {
   "cell_type": "markdown",
   "id": "e3ef3058",
   "metadata": {
    "id": "bea983a3"
   },
   "source": [
    "---\n",
    "\n",
    "### Exercise 16:\n",
    "Write a Python function that checks if a list contains any duplicates."
   ]
  },
  {
   "cell_type": "code",
   "execution_count": 29,
   "id": "72a84e29",
   "metadata": {},
   "outputs": [
    {
     "data": {
      "text/plain": [
       "True"
      ]
     },
     "execution_count": 29,
     "metadata": {},
     "output_type": "execute_result"
    }
   ],
   "source": [
    "#Roy's method\n",
    "\n",
    "liste = [1,2,3,4,5,6,7,7]\n",
    "\n",
    "def has_duplicates(liste):\n",
    "    for i in range(len(liste)-1):\n",
    "        for j in range(i+1, len(liste)):\n",
    "            if liste[i] == liste[j]:\n",
    "                return True\n",
    "    return False\n",
    "has_duplicates(liste)"
   ]
  },
  {
   "cell_type": "code",
   "execution_count": 30,
   "id": "adf13f75",
   "metadata": {},
   "outputs": [
    {
     "data": {
      "text/plain": [
       "True"
      ]
     },
     "execution_count": 30,
     "metadata": {},
     "output_type": "execute_result"
    }
   ],
   "source": [
    "liste = [1,2,3,4,5,6,7,7]\n",
    "\n",
    "def checker(liste):\n",
    "    if len(liste) == len(set(liste)):\n",
    "        return False\n",
    "    return True\n",
    "\n",
    "checker(liste)"
   ]
  },
  {
   "cell_type": "markdown",
   "id": "69c4d20c",
   "metadata": {
    "id": "bea983a3"
   },
   "source": [
    "---\n",
    "\n",
    "### Exercise 17:\n",
    "Write a Python program that prints \"Teenager\" if the age is between 13 and 19, otherwise it prints \"Not a teenager.\""
   ]
  },
  {
   "cell_type": "code",
   "execution_count": 4,
   "id": "19799d9b",
   "metadata": {},
   "outputs": [
    {
     "name": "stdout",
     "output_type": "stream",
     "text": [
      "Enter your age: 23\n",
      "Not a teenager\n"
     ]
    }
   ],
   "source": [
    "age = int(input(\"Enter your age: \"))\n",
    "\n",
    "if 13 <= age <=19:\n",
    "    print(\"Teenager\")\n",
    "else:\n",
    "    print(\"Not a teenager\")"
   ]
  },
  {
   "cell_type": "markdown",
   "id": "dce68ce3",
   "metadata": {
    "id": "bea983a3"
   },
   "source": [
    "---\n",
    "\n",
    "### Exercise 18:\n",
    "Write a Python function that checks if a list contains an element greater than 100.\n"
   ]
  },
  {
   "cell_type": "code",
   "execution_count": 7,
   "id": "0f88f429",
   "metadata": {},
   "outputs": [
    {
     "data": {
      "text/plain": [
       "True"
      ]
     },
     "execution_count": 7,
     "metadata": {},
     "output_type": "execute_result"
    }
   ],
   "source": [
    "liste = [7,3,8,913]\n",
    "\n",
    "def greater_than_100(liste):\n",
    "    \"\"\"\n",
    "    Checks if a list contains any element greater than 100. \n",
    "    \"\"\"\n",
    "    for i in liste:\n",
    "        if i > 100:\n",
    "            return True\n",
    "    return False\n",
    "greater_than_100(liste)"
   ]
  },
  {
   "cell_type": "markdown",
   "id": "896bd302",
   "metadata": {
    "id": "bea983a3"
   },
   "source": [
    "---\n",
    "\n",
    "### Exercise 19:\n",
    "Write a Python program that checks if a number is even or odd."
   ]
  },
  {
   "cell_type": "code",
   "execution_count": 11,
   "id": "edd352da",
   "metadata": {},
   "outputs": [
    {
     "name": "stdout",
     "output_type": "stream",
     "text": [
      "Enter a number: 9\n",
      "9 is odd\n"
     ]
    }
   ],
   "source": [
    "number = int(input(\"Enter a number: \"))\n",
    "\n",
    "if number % 2 == 0:\n",
    "    print(f\"{number} is even\")\n",
    "else: \n",
    "    print(f\"{number} is odd\")"
   ]
  },
  {
   "cell_type": "markdown",
   "id": "256ab794",
   "metadata": {
    "id": "bea983a3"
   },
   "source": [
    "---\n",
    "\n",
    "### Exercise 20:\n",
    "Write a Python function that checks if a string ends with a punctuation mark."
   ]
  },
  {
   "cell_type": "code",
   "execution_count": 34,
   "id": "6ffa6362",
   "metadata": {},
   "outputs": [
    {
     "data": {
      "text/plain": [
       "False"
      ]
     },
     "execution_count": 34,
     "metadata": {},
     "output_type": "execute_result"
    }
   ],
   "source": [
    "import string\n",
    "\n",
    "def ends_with_punctuation(text):\n",
    "  \"\"\"\n",
    "  Checks if a string ends with a punctuation mark.\n",
    "  \"\"\"\n",
    "  if not text:\n",
    "    return False\n",
    "  return text[-1] in string.punctuation\n",
    "\n",
    "ends_with_punctuation(\"\")"
   ]
  },
  {
   "cell_type": "markdown",
   "id": "515baa11",
   "metadata": {
    "id": "bea983a3"
   },
   "source": [
    "---\n",
    "\n",
    "### Exercise 21:\n",
    "Write a Python program that prints \"Yes\" if the number is between 1 and 100, otherwise it prints \"No.\""
   ]
  },
  {
   "cell_type": "code",
   "execution_count": 131,
   "id": "587db95a",
   "metadata": {},
   "outputs": [
    {
     "name": "stdout",
     "output_type": "stream",
     "text": [
      "Enter a number: 100\n",
      "Yes\n"
     ]
    }
   ],
   "source": [
    "number = float(input(\"Enter a number: \"))\n",
    "\n",
    "if 1 <= number <= 100:\n",
    "    print(\"Yes\")\n",
    "else:\n",
    "    print(\"No\")"
   ]
  },
  {
   "cell_type": "markdown",
   "id": "391e88ca",
   "metadata": {
    "id": "bea983a3"
   },
   "source": [
    "---\n",
    "\n",
    "### Exercise 22:\n",
    "Write a Python program that checks if two strings have the same length."
   ]
  },
  {
   "cell_type": "code",
   "execution_count": 36,
   "id": "4e4c7ec4",
   "metadata": {},
   "outputs": [
    {
     "name": "stdout",
     "output_type": "stream",
     "text": [
      "Enter first string: Pen\n",
      "Enter second string: Pencil\n",
      "Strings DON'T have the same length\n"
     ]
    }
   ],
   "source": [
    "string_1 = input(\"Enter first string: \")\n",
    "string_2 = input(\"Enter second string: \")\n",
    "\n",
    "if len(string_1) == len(string_2):\n",
    "    print(\"Strings have the same length\")\n",
    "else:\n",
    "    print(\"Strings DON'T have the same length\")Pen"
   ]
  },
  {
   "cell_type": "markdown",
   "id": "ddc601db",
   "metadata": {
    "id": "bea983a3"
   },
   "source": [
    "---\n",
    "\n",
    "### Exercise 23:\n",
    "Write a Python function that checks if a number is greater than its reverse."
   ]
  },
  {
   "cell_type": "code",
   "execution_count": 127,
   "id": "03caf6e7",
   "metadata": {},
   "outputs": [
    {
     "name": "stdout",
     "output_type": "stream",
     "text": [
      "Enter a number:13\n"
     ]
    },
    {
     "data": {
      "text/plain": [
       "False"
      ]
     },
     "execution_count": 127,
     "metadata": {},
     "output_type": "execute_result"
    }
   ],
   "source": [
    "number = int(input(\"Enter a number:\"))\n",
    "\n",
    "def is_greater_than_reverse(number):\n",
    "    return number > int(str(number)[::-1])\n",
    "\n",
    "is_greater_than_reverse(number)"
   ]
  },
  {
   "cell_type": "markdown",
   "id": "1e9d2f75",
   "metadata": {
    "id": "bea983a3"
   },
   "source": [
    "---\n",
    "\n",
    "### Exercise 24:\n",
    "Write a Python program that checks if a password contains both letters and numbers."
   ]
  },
  {
   "cell_type": "code",
   "execution_count": 102,
   "id": "10e66666",
   "metadata": {},
   "outputs": [
    {
     "name": "stdout",
     "output_type": "stream",
     "text": [
      "Enter your password: angelah123\n",
      "Password contains both letters and numbers.\n"
     ]
    }
   ],
   "source": [
    "password = input(\"Enter your password: \")\n",
    "\n",
    "def has_letter_and_number(s):\n",
    "    has_letter = any(c.isalpha() for c in s)\n",
    "    has_number = any(c.isdigit() for c in s)\n",
    "    return has_letter and has_number\n",
    "\n",
    "if has_letter_and_number(password):\n",
    "    print(\"Password contains both letters and numbers.\")\n",
    "else:\n",
    "    print(\"Password must contain both a letter and a number.\")"
   ]
  },
  {
   "cell_type": "markdown",
   "id": "32dc5358",
   "metadata": {
    "id": "bea983a3"
   },
   "source": [
    "---\n",
    "\n",
    "### Exercise 25:\n",
    "Write a Python program that checks if a number is between two given numbers."
   ]
  },
  {
   "cell_type": "code",
   "execution_count": 109,
   "id": "958ca61c",
   "metadata": {},
   "outputs": [
    {
     "name": "stdout",
     "output_type": "stream",
     "text": [
      "Enter the number to check: 5\n",
      "Enter the lower bound: 3\n",
      "Enter the upper bound: 4\n",
      "    \n",
      "5 is NOT between 3 and 4.\n"
     ]
    }
   ],
   "source": [
    "number = int(input(\"Enter the number to check: \"))\n",
    "number_1 = int(input(\"Enter the lower bound: \"))\n",
    "number_2 = int(input(\"Enter the upper bound: \"))\n",
    "print(\"    \")\n",
    "\n",
    "def is_between(n, start, end):\n",
    "    return start <= n <= end\n",
    "\n",
    "if is_between(number, number_1, number_2):\n",
    "    print(f\"{number} is between {number_1} and {number_2}.\")\n",
    "else:\n",
    "    print(f\"{number} is NOT between {number_1} and {number_2}.\")"
   ]
  },
  {
   "cell_type": "markdown",
   "id": "38f8d405",
   "metadata": {
    "id": "bea983a3"
   },
   "source": [
    "---\n",
    "\n",
    "### Exercise 26:\n",
    "Write a Python function that checks if all characters in a string are unique."
   ]
  },
  {
   "cell_type": "code",
   "execution_count": 99,
   "id": "98bb43db",
   "metadata": {},
   "outputs": [
    {
     "name": "stdout",
     "output_type": "stream",
     "text": [
      "Enter your string: Angelah\n",
      "Characters are NOT unique\n"
     ]
    }
   ],
   "source": [
    "string = input(\"Enter your string: \")\n",
    "\n",
    "def is_unique(string):\n",
    "    if len(set(string.lower())) == len(string.lower()):\n",
    "        return True\n",
    "    else:\n",
    "        return False\n",
    "\n",
    "if is_unique(string):\n",
    "    print(\"Characters are unique\")\n",
    "else:\n",
    "    print(\"Characters are NOT unique\")"
   ]
  },
  {
   "cell_type": "markdown",
   "id": "a36f38d0",
   "metadata": {
    "id": "bea983a3"
   },
   "source": [
    "---\n",
    "\n",
    "### Exercise 27:\n",
    "Write a Python program that checks if a number is a perfect square."
   ]
  },
  {
   "cell_type": "code",
   "execution_count": 113,
   "id": "62e3018e",
   "metadata": {},
   "outputs": [
    {
     "name": "stdout",
     "output_type": "stream",
     "text": [
      "Enter a number: 25\n",
      "25 is a perfect square\n"
     ]
    }
   ],
   "source": [
    "import math\n",
    "from math import sqrt\n",
    "\n",
    "number = int(input(\"Enter a number: \"))\n",
    "\n",
    "def is_perfect(number):\n",
    "    if number < 0:\n",
    "        return False\n",
    "\n",
    "    root = int(sqrt(number))\n",
    "    if root * root == number:\n",
    "        print(f\"{number} is a perfect square\")\n",
    "    else:\n",
    "        print(f\"{number} is NOT a perfect square\")\n",
    "\n",
    "is_perfect(number)"
   ]
  },
  {
   "cell_type": "markdown",
   "id": "a72392e3",
   "metadata": {
    "id": "bea983a3"
   },
   "source": [
    "---\n",
    "\n",
    "### Exercise 28:\n",
    "Write a Python function that checks if a word is a palindrome.\n"
   ]
  },
  {
   "cell_type": "code",
   "execution_count": 52,
   "id": "2e1fe420",
   "metadata": {},
   "outputs": [
    {
     "name": "stdout",
     "output_type": "stream",
     "text": [
      "Enter a string: Rotator\n",
      "String is a palindome\n"
     ]
    }
   ],
   "source": [
    "string = input(\"Enter a string: \")\n",
    "\n",
    "if string.lower() == string.lower()[::-1]:\n",
    "    print(\"String is a palindome\")\n",
    "else:\n",
    "    print(\"String is NOT a palindrome\")"
   ]
  },
  {
   "cell_type": "markdown",
   "id": "5f181310",
   "metadata": {
    "id": "bea983a3"
   },
   "source": [
    "---\n",
    "\n",
    "### Exercise 29:\n",
    "Write a Python program that prints \"Fizz\" if a number is divisible by 3, \"Buzz\" if it is divisible by 5, and \"FizzBuzz\" if divisible by both."
   ]
  },
  {
   "cell_type": "code",
   "execution_count": 47,
   "id": "5a08720b",
   "metadata": {},
   "outputs": [
    {
     "name": "stdout",
     "output_type": "stream",
     "text": [
      "Enter a number: 15\n",
      "Fizz\n",
      "Buzz\n",
      "FizzBuzz\n"
     ]
    }
   ],
   "source": [
    "number = int(input(\"Enter a number: \"))\n",
    "\n",
    "if number % 3 == 0:\n",
    "    print(\"Fizz\")\n",
    "    if number % 5 == 0:\n",
    "        print(\"Buzz\")\n",
    "        if number % 15 == 0:\n",
    "            print(\"FizzBuzz\")"
   ]
  },
  {
   "cell_type": "markdown",
   "id": "cd33465c",
   "metadata": {
    "id": "bea983a3"
   },
   "source": [
    "---\n",
    "\n",
    "### Exercise 30:\n",
    "Write a Python program that checks if the sum of the digits of a number is even."
   ]
  },
  {
   "cell_type": "code",
   "execution_count": 41,
   "id": "7426686b",
   "metadata": {},
   "outputs": [
    {
     "name": "stdout",
     "output_type": "stream",
     "text": [
      "Enter a number: 3\n",
      "Enter another number: 5\n",
      "The sum of the two numbers is even\n"
     ]
    }
   ],
   "source": [
    "number_1 = int(input(\"Enter a number: \"))\n",
    "number_2 = int(input(\"Enter another number: \"))\n",
    "\n",
    "sum_ = number_1 + number_2\n",
    "\n",
    "if sum_ % 2 == 0:\n",
    "    print(\"The sum of the two numbers is even\")\n",
    "else:\n",
    "    print(\"The sum is odd\")"
   ]
  },
  {
   "cell_type": "markdown",
   "id": "8f6a919d",
   "metadata": {
    "id": "bea983a3"
   },
   "source": [
    "---\n",
    "\n",
    "### Exercise 31:\n",
    "Write a Python program that checks if a string is a valid email address."
   ]
  },
  {
   "cell_type": "code",
   "execution_count": 89,
   "id": "a3c8cc77",
   "metadata": {},
   "outputs": [
    {
     "name": "stdout",
     "output_type": "stream",
     "text": [
      "Enter an email address: angelah@yahoo.com\n",
      "Valid email address.\n"
     ]
    }
   ],
   "source": [
    "import re\n",
    "\n",
    "email = input(\"Enter an email address: \")\n",
    "valid = re.match(r'^[a-zA-Z0-9._%+-]+@[a-zA-Z0-9.-]+\\.[a-zA-Z]{2,}$', email)\n",
    "\n",
    "if valid:\n",
    "    print(\"Valid email address.\")\n",
    "else:\n",
    "    print(\"Invalid email address.\")"
   ]
  },
  {
   "cell_type": "markdown",
   "id": "14e4324f",
   "metadata": {
    "id": "bea983a3"
   },
   "source": [
    "---\n",
    "\n",
    "### Exercise 32:\n",
    "Write a Python function that checks if a number is within 10 of 100 or 200."
   ]
  },
  {
   "cell_type": "code",
   "execution_count": 133,
   "id": "0c7e3548",
   "metadata": {},
   "outputs": [
    {
     "name": "stdout",
     "output_type": "stream",
     "text": [
      "Enter a number67\n"
     ]
    },
    {
     "data": {
      "text/plain": [
       "'No'"
      ]
     },
     "execution_count": 133,
     "metadata": {},
     "output_type": "execute_result"
    }
   ],
   "source": [
    "number = int(input(\"Enter a number\"))\n",
    "\n",
    "def near_hundred(number):\n",
    "\n",
    "    if abs(100 - number) <= 10 or abs(200 - number) <= 10:\n",
    "        return \"Yes\"\n",
    "    else:\n",
    "        return \"No\"\n",
    "    \n",
    "near_hundred(number)"
   ]
  },
  {
   "cell_type": "markdown",
   "id": "93cedd26",
   "metadata": {
    "id": "bea983a3"
   },
   "source": [
    "---\n",
    "\n",
    "### Exercise 33:\n",
    "Write a Python program that checks if a given string is a valid URL."
   ]
  },
  {
   "cell_type": "code",
   "execution_count": 32,
   "id": "697d2b55",
   "metadata": {},
   "outputs": [
    {
     "name": "stdout",
     "output_type": "stream",
     "text": [
      "http://test.com: True\n"
     ]
    }
   ],
   "source": [
    "import re\n",
    "\n",
    "def is_valid_url_simple(url):\n",
    "    return bool(re.match(r'^https?://\\S+\\.\\S+', url))\n",
    "\n",
    "print(f\"http://test.com: {is_valid_url_simple('http://test.com')}\")"
   ]
  },
  {
   "cell_type": "markdown",
   "id": "9858724b",
   "metadata": {
    "id": "bea983a3"
   },
   "source": [
    "---\n",
    "\n",
    "### Exercise 34:\n",
    "Write a Python program that checks if a list contains all even numbers."
   ]
  },
  {
   "cell_type": "code",
   "execution_count": 30,
   "id": "4c3508c7",
   "metadata": {},
   "outputs": [
    {
     "name": "stdout",
     "output_type": "stream",
     "text": [
      "Even\n",
      "Odd\n",
      "Odd\n"
     ]
    }
   ],
   "source": [
    "liste = [2,3,5]\n",
    "    \n",
    "for i in liste:\n",
    "    if i % 2 == 0:\n",
    "        print(\"Even\")\n",
    "    else:\n",
    "        print(\"Odd\")"
   ]
  },
  {
   "cell_type": "markdown",
   "id": "5e24b4be",
   "metadata": {
    "id": "bea983a3"
   },
   "source": [
    "---\n",
    "\n",
    "### Exercise 35:\n",
    "Write a Python program that checks if a word is longer than a given length."
   ]
  },
  {
   "cell_type": "code",
   "execution_count": 58,
   "id": "d4be80d9",
   "metadata": {},
   "outputs": [
    {
     "name": "stdout",
     "output_type": "stream",
     "text": [
      "Enter any length: 3\n",
      "Enter a word: CAT\n",
      "Word is NOT longer than given length\n"
     ]
    }
   ],
   "source": [
    "length = float(input(\"Enter any length: \"))\n",
    "word = input(\"Enter a word: \")\n",
    "\n",
    "if len(word) > length:\n",
    "    print(\"Word is longer than given length\")\n",
    "else:\n",
    "    print(\"Word is NOT longer than given length\")"
   ]
  },
  {
   "cell_type": "markdown",
   "id": "4d916fce",
   "metadata": {
    "id": "bea983a3"
   },
   "source": [
    "---\n",
    "\n",
    "### Exercise 36:\n",
    "Write a Python program that checks if a list contains only positive numbers."
   ]
  },
  {
   "cell_type": "code",
   "execution_count": 11,
   "id": "9967c84d",
   "metadata": {},
   "outputs": [
    {
     "data": {
      "text/plain": [
       "False"
      ]
     },
     "execution_count": 11,
     "metadata": {},
     "output_type": "execute_result"
    }
   ],
   "source": [
    "list_1 = [5,7,1,-3,4]\n",
    "\n",
    "def checker(list_1):\n",
    "    \"\"\"\n",
    "    Check if all numbers are positive using a for loop\n",
    "    \"\"\"\n",
    "    for i in list_1:\n",
    "        if i <= 0:\n",
    "            return False\n",
    "    return True\n",
    "\n",
    "checker(list_1)"
   ]
  },
  {
   "cell_type": "markdown",
   "id": "5c92912d",
   "metadata": {
    "id": "bea983a3"
   },
   "source": [
    "---\n",
    "\n",
    "### Exercise 37:\n",
    "Write a Python function that checks if a year is a century year (i.e., divisible by 100).\n"
   ]
  },
  {
   "cell_type": "code",
   "execution_count": 14,
   "id": "b124d4a4",
   "metadata": {},
   "outputs": [
    {
     "name": "stdout",
     "output_type": "stream",
     "text": [
      "Enter any year: 1990\n",
      "1990 is NOT a century year\n"
     ]
    }
   ],
   "source": [
    "year = int(input(\"Enter any year: \"))\n",
    "\n",
    "if year % 100 == 0:\n",
    "    print(f\"{year} is a century year\")\n",
    "else:\n",
    "    print(f\"{year} is NOT a century year\")"
   ]
  },
  {
   "cell_type": "markdown",
   "id": "2741cd8e",
   "metadata": {
    "id": "bea983a3"
   },
   "source": [
    "---\n",
    "\n",
    "### Exercise 38:\n",
    "Write a Python program that checks if the sum of a list of numbers is greater than 100.\n"
   ]
  },
  {
   "cell_type": "code",
   "execution_count": 24,
   "id": "44491fb0",
   "metadata": {},
   "outputs": [
    {
     "name": "stdout",
     "output_type": "stream",
     "text": [
      "True\n"
     ]
    }
   ],
   "source": [
    "def is_sum_greater_than_100(numbers):\n",
    "    \"\"\"Check if the sum of numbers is greater than 100\"\"\"\n",
    "    return sum(numbers) > 100\n",
    "\n",
    "# Test the function\n",
    "numbers_list = [2,8,17,75]\n",
    "result = is_sum_greater_than_100(numbers_list)\n",
    "print(result)"
   ]
  },
  {
   "cell_type": "markdown",
   "id": "8125792e",
   "metadata": {
    "id": "bea983a3"
   },
   "source": [
    "---\n",
    "\n",
    "### Exercise 39:\n",
    "Write a Python function that checks if a given word is a substring of another string.\n"
   ]
  },
  {
   "cell_type": "code",
   "execution_count": 26,
   "id": "ca6f6e26",
   "metadata": {},
   "outputs": [
    {
     "data": {
      "text/plain": [
       "True"
      ]
     },
     "execution_count": 26,
     "metadata": {},
     "output_type": "execute_result"
    }
   ],
   "source": [
    "def is_substring(word, main_string):\n",
    "    \"\"\"\n",
    "    Check if word is a substring of another string.\n",
    "    \"\"\"\n",
    "    return word.lower() in main_string.lower()\n",
    "\n",
    "is_substring(\"Cat\", \"The wildcats are in cages\")"
   ]
  },
  {
   "cell_type": "markdown",
   "id": "5a40bfd7",
   "metadata": {
    "id": "bea983a3"
   },
   "source": [
    "---\n",
    "\n",
    "### Exercise 40:\n",
    "Write a Python program that checks if a number is a power of 2.\n"
   ]
  },
  {
   "cell_type": "code",
   "execution_count": 90,
   "id": "663eb5cf",
   "metadata": {},
   "outputs": [
    {
     "name": "stdout",
     "output_type": "stream",
     "text": [
      "Enter an integer: 64\n",
      "64 is a power of 2.\n"
     ]
    }
   ],
   "source": [
    "def is_power_of_two(n):\n",
    "    \"\"\"\n",
    "    Checks if a given number is a power of 2.\n",
    "    \"\"\"\n",
    "    return n > 0 and (n & (n - 1)) == 0\n",
    "\n",
    "number = int(input(\"Enter an integer: \"))\n",
    "\n",
    "if is_power_of_two(number):\n",
    "    print(f\"{number} is a power of 2.\")\n",
    "else:\n",
    "    print(f\"{number} is not a power of 2.\")"
   ]
  },
  {
   "cell_type": "markdown",
   "id": "11f75519",
   "metadata": {
    "id": "bea983a3"
   },
   "source": [
    "---\n",
    "\n",
    "### Exercise 41:\n",
    "Write a Python function that checks if a string contains no spaces.\n"
   ]
  },
  {
   "cell_type": "code",
   "execution_count": 86,
   "id": "50a02126",
   "metadata": {},
   "outputs": [
    {
     "name": "stdout",
     "output_type": "stream",
     "text": [
      "Enter a string: Programming\n",
      "Programming contains no spaces\n"
     ]
    }
   ],
   "source": [
    "def has_no_spaces(text):\n",
    "    return not text.isspace() and ' ' not in text\n",
    "\n",
    "string = input(\"Enter a string: \")\n",
    "if has_no_spaces(string):\n",
    "    print(f\"{string} contains no spaces\")\n",
    "else:\n",
    "    print(f\"{string} contains spaces\")"
   ]
  },
  {
   "cell_type": "markdown",
   "id": "c0032353",
   "metadata": {
    "id": "bea983a3"
   },
   "source": [
    "---\n",
    "\n",
    "### Exercise 42:\n",
    "Write a Python program that prints \"Yes\" if a number is divisible by both 2 and 3, otherwise it prints \"No.\""
   ]
  },
  {
   "cell_type": "code",
   "execution_count": 64,
   "id": "c6ecca8d",
   "metadata": {},
   "outputs": [
    {
     "name": "stdout",
     "output_type": "stream",
     "text": [
      "Enter a number: 15\n",
      "No\n"
     ]
    }
   ],
   "source": [
    "number = int(input(\"Enter a number: \"))\n",
    "\n",
    "if number % 6 == 0:\n",
    "    print(\"Yes\")\n",
    "else:\n",
    "    print(\"No\")"
   ]
  },
  {
   "cell_type": "markdown",
   "id": "433bc9b2",
   "metadata": {
    "id": "bea983a3"
   },
   "source": [
    "---\n",
    "\n",
    "### Exercise 43:\n",
    "Write a Python program that checks if a number is a palindrome.\n"
   ]
  },
  {
   "cell_type": "code",
   "execution_count": 83,
   "id": "92f6ca50",
   "metadata": {},
   "outputs": [
    {
     "name": "stdout",
     "output_type": "stream",
     "text": [
      "Enter a number: 1010\n",
      "Number is NOT a palindrome\n"
     ]
    }
   ],
   "source": [
    "number = input(\"Enter a number: \")\n",
    "number_reversed = number[::-1]\n",
    "\n",
    "if number == number_reversed:\n",
    "    print(\"Number is a palindrome\")\n",
    "else:\n",
    "    print(\"Number is NOT a palindrome\")"
   ]
  },
  {
   "cell_type": "markdown",
   "id": "b3fa3332",
   "metadata": {
    "id": "bea983a3"
   },
   "source": [
    "---\n",
    "\n",
    "### Exercise 44:\n",
    "Write a Python function that checks if a string is made of only lowercase letters.\n"
   ]
  },
  {
   "cell_type": "code",
   "execution_count": 70,
   "id": "07ee189d",
   "metadata": {},
   "outputs": [
    {
     "name": "stdout",
     "output_type": "stream",
     "text": [
      "Enter a string: Banana\n",
      "'Banana' contains only lowercase letters: False\n"
     ]
    }
   ],
   "source": [
    "def is_all_lowercase(text):\n",
    "    return text.islower()\n",
    "\n",
    "string = input(\"Enter a string: \")\n",
    "result = is_all_lowercase(string)\n",
    "print(f\"'{string}' contains only lowercase letters: {result}\")"
   ]
  },
  {
   "cell_type": "markdown",
   "id": "f6fc9de7",
   "metadata": {
    "id": "bea983a3"
   },
   "source": [
    "---\n",
    "\n",
    "### Exercise 45:\n",
    "Write a Python program that checks if a string starts with a specific prefix.\n"
   ]
  },
  {
   "cell_type": "code",
   "execution_count": 79,
   "id": "e73fe3e3",
   "metadata": {},
   "outputs": [
    {
     "name": "stdout",
     "output_type": "stream",
     "text": [
      "Enter a string: Python\n",
      "Enter the prefix to check: py\n",
      "'Python' starts with 'py'?\n",
      "True\n"
     ]
    }
   ],
   "source": [
    "def starts_with_prefix(text, prefix):\n",
    "    return text.lower().startswith(prefix.lower())\n",
    "\n",
    "# Test the function\n",
    "text = input(\"Enter a string: \")\n",
    "prefix = input(\"Enter the prefix to check: \")\n",
    "result = starts_with_prefix(text, prefix)\n",
    "print(f\"'{text}' starts with '{prefix}'?\")\n",
    "print(result)"
   ]
  },
  {
   "cell_type": "markdown",
   "id": "18844774",
   "metadata": {
    "id": "bea983a3"
   },
   "source": [
    "---\n",
    "\n",
    "### Exercise 46:\n",
    "Write a Python function that checks if a number is divisible by any number in a given list.\n"
   ]
  },
  {
   "cell_type": "code",
   "execution_count": 67,
   "id": "927460f2",
   "metadata": {},
   "outputs": [
    {
     "name": "stdout",
     "output_type": "stream",
     "text": [
      "Enter a number: 18\n",
      "18 is divisible by 3\n",
      "18 is divisible by 6\n"
     ]
    }
   ],
   "source": [
    "number = int(input(\"Enter a number: \"))\n",
    "liste = [3, 5, 6, 7]\n",
    "\n",
    "divisible_by = [i for i in liste if number % i == 0]\n",
    "\n",
    "if divisible_by:\n",
    "    for divisor in divisible_by:\n",
    "        print(f\"{number} is divisible by {divisor}\")\n",
    "else:\n",
    "    print(f\"No number in the list divides {number}\")"
   ]
  },
  {
   "cell_type": "markdown",
   "id": "4f0cfabe",
   "metadata": {
    "id": "bea983a3"
   },
   "source": [
    "---\n",
    "\n",
    "### Exercise 47:\n",
    "Write a Python program that prints \"Yes\" if a string has more than one occurrence of the same letter.\n"
   ]
  },
  {
   "cell_type": "code",
   "execution_count": 56,
   "id": "7181ee86",
   "metadata": {},
   "outputs": [
    {
     "name": "stdout",
     "output_type": "stream",
     "text": [
      "Enter a string: Zebra\n",
      "No\n"
     ]
    }
   ],
   "source": [
    "def find_duplicate_letters(text):\n",
    "    text = text.lower()\n",
    "    duplicates = set()\n",
    "    for char in text:\n",
    "        if char.isalpha() and text.count(char) > 1:\n",
    "            duplicates.add(char)\n",
    "    return duplicates\n",
    "\n",
    "string = input(\"Enter a string: \")\n",
    "duplicate_letters = find_duplicate_letters(string)\n",
    "\n",
    "if duplicate_letters:\n",
    "    print(\"Yes\")\n",
    "else:\n",
    "    print(\"No\")"
   ]
  },
  {
   "cell_type": "markdown",
   "id": "1cbf9602",
   "metadata": {
    "id": "bea983a3"
   },
   "source": [
    "---\n",
    "\n",
    "### Exercise 48:\n",
    "Write a Python function that checks if a number is prime by dividing it by numbers up to its square root.\n"
   ]
  },
  {
   "cell_type": "code",
   "execution_count": 49,
   "id": "c97b8e1c",
   "metadata": {},
   "outputs": [
    {
     "name": "stdout",
     "output_type": "stream",
     "text": [
      "Enter a number: 11\n",
      "11 is a prime number.\n"
     ]
    }
   ],
   "source": [
    "import math\n",
    "from math import sqrt\n",
    "\n",
    "def is_prime():\n",
    "    \"\"\"\n",
    "    Checks if a number is prime by dividing it by numbers up to its square root.\n",
    "    \"\"\"\n",
    "    while True:\n",
    "        try:\n",
    "            number = int(input(\"Enter a number: \"))\n",
    "            break\n",
    "        except ValueError:\n",
    "            print(\"Please enter an integer.\")\n",
    "\n",
    "    if number <= 1:\n",
    "        print(f\"{number} is not a prime number.\")\n",
    "        return\n",
    "\n",
    "    if number == 2:\n",
    "        print(f\"{number} is a prime number.\")\n",
    "        return\n",
    "    \n",
    "    if number % 2 == 0:\n",
    "        print(f\"{number} is not a prime number.\")\n",
    "        return\n",
    "\n",
    "    limit = int(sqrt(number)) + 1\n",
    "    for i in range(3, limit, 2):\n",
    "        if number % i == 0:\n",
    "            print(f\"{number} is not a prime number (divisible by {i}).\")\n",
    "            return\n",
    "\n",
    "    print(f\"{number} is a prime number.\")\n",
    "    \n",
    "is_prime()"
   ]
  },
  {
   "cell_type": "markdown",
   "id": "4f2b9c1b",
   "metadata": {
    "id": "bea983a3"
   },
   "source": [
    "---\n",
    "\n",
    "### Exercise 49:\n",
    "Write a Python program that checks if a number is within 1 of a multiple of 10.\n"
   ]
  },
  {
   "cell_type": "code",
   "execution_count": 46,
   "id": "23413f0c",
   "metadata": {},
   "outputs": [
    {
     "name": "stdout",
     "output_type": "stream",
     "text": [
      "Enter a number: 21\n",
      "The number 21 is within 1 of a multiple of 10.\n"
     ]
    }
   ],
   "source": [
    "def check_within_one_of_multiple_of_ten():\n",
    "    \"\"\"\n",
    "    Accepts a number from the user and checks if it is within 1 of a multiple of 10.\n",
    "    \"\"\"\n",
    "    while True:\n",
    "        try:\n",
    "            number = int(input(\"Enter a number: \"))\n",
    "            break  \n",
    "        except ValueError:\n",
    "            print(\"Please enter an integer.\")\n",
    "\n",
    "    remainder = number % 10\n",
    "\n",
    "\n",
    "    if remainder == 0 or remainder == 1 or remainder == 9:\n",
    "        print(f\"The number {number} is within 1 of a multiple of 10.\")\n",
    "    else:\n",
    "        print(f\"The number {number} is NOT within 1 of a multiple of 10.\")\n",
    "\n",
    "check_within_one_of_multiple_of_ten()"
   ]
  },
  {
   "cell_type": "markdown",
   "id": "bea983a3",
   "metadata": {
    "id": "bea983a3"
   },
   "source": [
    "---\n",
    "\n",
    "### Exercise 50:\n",
    "Write a Python program that prints \"In range\" if a number is between 10 and 20 (inclusive), otherwise it prints \"Out of range.\"\n"
   ]
  },
  {
   "cell_type": "code",
   "execution_count": 1,
   "id": "b315a183",
   "metadata": {},
   "outputs": [
    {
     "name": "stdout",
     "output_type": "stream",
     "text": [
      "Enter a number: 7\n",
      "Out of range\n"
     ]
    }
   ],
   "source": [
    "number = int(input(\"Enter a number: \"))\n",
    "\n",
    "if 10 <= number <= 20:\n",
    "    print(\"In range\")\n",
    "else:\n",
    "    print(\"Out of range\")"
   ]
  }
 ],
 "metadata": {
  "colab": {
   "provenance": []
  },
  "kernelspec": {
   "display_name": "Python 3 (ipykernel)",
   "language": "python",
   "name": "python3"
  },
  "language_info": {
   "codemirror_mode": {
    "name": "ipython",
    "version": 3
   },
   "file_extension": ".py",
   "mimetype": "text/x-python",
   "name": "python",
   "nbconvert_exporter": "python",
   "pygments_lexer": "ipython3",
   "version": "3.12.3"
  }
 },
 "nbformat": 4,
 "nbformat_minor": 5
}
