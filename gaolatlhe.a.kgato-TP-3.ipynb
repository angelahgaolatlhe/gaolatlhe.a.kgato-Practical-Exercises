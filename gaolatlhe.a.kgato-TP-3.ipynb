{
 "cells": [
  {
   "cell_type": "markdown",
   "id": "d68c1dee",
   "metadata": {
    "id": "d68c1dee"
   },
   "source": [
    "# Practical_3: Iterable objects or Containers"
   ]
  },
  {
   "cell_type": "markdown",
   "id": "fb406263",
   "metadata": {
    "id": "bea983a3"
   },
   "source": [
    "---\n",
    "\n",
    "### Exercise 1:\n",
    "Create a list of integers from 1 to 10."
   ]
  },
  {
   "cell_type": "code",
   "execution_count": 1,
   "id": "1d54b60b",
   "metadata": {},
   "outputs": [],
   "source": [
    "integers = [1,2,3,4,5,6,7,8,9,10]"
   ]
  },
  {
   "cell_type": "markdown",
   "id": "42d126d3",
   "metadata": {
    "id": "bea983a3"
   },
   "source": [
    "---\n",
    "\n",
    "### Exercise 2:\n",
    "Create a tuple containing the elements `\"apple\"`, `\"banana\"`, and `\"cherry\"`."
   ]
  },
  {
   "cell_type": "code",
   "execution_count": 3,
   "id": "1e281756",
   "metadata": {},
   "outputs": [],
   "source": [
    "fruits = (\"apple\", \"banana\", \"cherry\")"
   ]
  },
  {
   "cell_type": "markdown",
   "id": "a944e449",
   "metadata": {
    "id": "bea983a3"
   },
   "source": [
    "---\n",
    "\n",
    "### Exercise 3:\n",
    "Convert the list `numbers = [10, 20, 30, 40]` into a tuple."
   ]
  },
  {
   "cell_type": "code",
   "execution_count": 5,
   "id": "ac5e8645",
   "metadata": {},
   "outputs": [
    {
     "data": {
      "text/plain": [
       "(10, 20, 30, 40)"
      ]
     },
     "execution_count": 5,
     "metadata": {},
     "output_type": "execute_result"
    }
   ],
   "source": [
    "numbers = [10, 20, 30, 40]\n",
    "numbers = tuple(numbers)\n",
    "\n",
    "numbers"
   ]
  },
  {
   "cell_type": "markdown",
   "id": "c77e40c2",
   "metadata": {
    "id": "bea983a3"
   },
   "source": [
    "---\n",
    "\n",
    "### Exercise 4:\n",
    "Create a set containing the elements `1, 2, 3, 4, 5`."
   ]
  },
  {
   "cell_type": "code",
   "execution_count": 6,
   "id": "98cbdad7",
   "metadata": {},
   "outputs": [],
   "source": [
    "set_1 = {1,2,3,4,5}"
   ]
  },
  {
   "cell_type": "markdown",
   "id": "1f384064",
   "metadata": {
    "id": "bea983a3"
   },
   "source": [
    "---\n",
    "\n",
    "### Exercise 5:\n",
    "Create a dictionary `student` with the keys `\"name\"`, `\"age\"`, and `\"grade\"` and corresponding values `\"Alice\"`, `20`, and `\"A\"`."
   ]
  },
  {
   "cell_type": "code",
   "execution_count": 7,
   "id": "dbe88de0",
   "metadata": {},
   "outputs": [],
   "source": [
    "student = {\"name\": \"Alice\", \"age\": 20, \"grade\": \"A\"}"
   ]
  },
  {
   "cell_type": "markdown",
   "id": "4e24f5fb",
   "metadata": {
    "id": "bea983a3"
   },
   "source": [
    "---\n",
    "\n",
    "### Exercise 6:\n",
    "Access the second element of the list `[10, 20, 30, 40, 50]` using indexing."
   ]
  },
  {
   "cell_type": "code",
   "execution_count": 8,
   "id": "f65923a7",
   "metadata": {},
   "outputs": [
    {
     "data": {
      "text/plain": [
       "20"
      ]
     },
     "execution_count": 8,
     "metadata": {},
     "output_type": "execute_result"
    }
   ],
   "source": [
    "list = [10, 20, 30, 40, 50]\n",
    "\n",
    "list[1]"
   ]
  },
  {
   "cell_type": "markdown",
   "id": "8b29496a",
   "metadata": {
    "id": "bea983a3"
   },
   "source": [
    "---\n",
    "\n",
    "### Exercise 7:\n",
    "Change the third element of the list `fruits = [\"apple\", \"banana\", \"cherry\", \"orange\"]` to `\"mango\"`."
   ]
  },
  {
   "cell_type": "code",
   "execution_count": 5,
   "id": "e01d141c",
   "metadata": {},
   "outputs": [
    {
     "data": {
      "text/plain": [
       "['apple', 'banana', 'Mango', 'orange']"
      ]
     },
     "execution_count": 5,
     "metadata": {},
     "output_type": "execute_result"
    }
   ],
   "source": [
    "fruits = [\"apple\", \"banana\", \"cherry\", \"orange\"]\n",
    "fruits[2] = \"Mango\"\n",
    "\n",
    "fruits"
   ]
  },
  {
   "cell_type": "markdown",
   "id": "0f2e9123",
   "metadata": {
    "id": "bea983a3"
   },
   "source": [
    "---\n",
    "\n",
    "### Exercise 8:\n",
    "Add the number `6` to the set `numbers = {1, 2, 3, 4, 5}`."
   ]
  },
  {
   "cell_type": "code",
   "execution_count": 2,
   "id": "b5950f7e",
   "metadata": {},
   "outputs": [
    {
     "data": {
      "text/plain": [
       "{1, 2, 3, 4, 5, 6}"
      ]
     },
     "execution_count": 2,
     "metadata": {},
     "output_type": "execute_result"
    }
   ],
   "source": [
    "numbers = {1, 2, 3, 4, 5}\n",
    "numbers.add(6)\n",
    "\n",
    "numbers"
   ]
  },
  {
   "cell_type": "markdown",
   "id": "8f4b6081",
   "metadata": {
    "id": "bea983a3"
   },
   "source": [
    "---\n",
    "\n",
    "### Exercise 9:\n",
    "Remove the key `\"age\"` from the dictionary `person = {\"name\": \"John\", \"age\": 25, \"city\": \"New York\"}`."
   ]
  },
  {
   "cell_type": "code",
   "execution_count": 18,
   "id": "f7063ec7",
   "metadata": {},
   "outputs": [
    {
     "data": {
      "text/plain": [
       "{'name': 'John', 'city': 'New York'}"
      ]
     },
     "execution_count": 18,
     "metadata": {},
     "output_type": "execute_result"
    }
   ],
   "source": [
    "person = {\"name\": \"John\", \"age\": 25, \"city\": \"New York\"}\n",
    "del person[\"age\"]\n",
    "\n",
    "person"
   ]
  },
  {
   "cell_type": "markdown",
   "id": "50d01c8e",
   "metadata": {
    "id": "bea983a3"
   },
   "source": [
    "---\n",
    "\n",
    "### Exercise 10:\n",
    "Create a range object starting from 0 to 9."
   ]
  },
  {
   "cell_type": "code",
   "execution_count": 47,
   "id": "07141143",
   "metadata": {},
   "outputs": [
    {
     "data": {
      "text/plain": [
       "range(0, 10)"
      ]
     },
     "execution_count": 47,
     "metadata": {},
     "output_type": "execute_result"
    }
   ],
   "source": [
    "range_1 = range(10)\n",
    "range_1"
   ]
  },
  {
   "cell_type": "markdown",
   "id": "7863041f",
   "metadata": {
    "id": "bea983a3"
   },
   "source": [
    "---\n",
    "\n",
    "### Exercise 11:\n",
    "Use a list comprehension to create a list of squares of numbers from 1 to 10."
   ]
  },
  {
   "cell_type": "code",
   "execution_count": 45,
   "id": "c9614f77",
   "metadata": {},
   "outputs": [
    {
     "data": {
      "text/plain": [
       "[1, 4, 9, 16, 25, 36, 49, 64, 81, 100]"
      ]
     },
     "execution_count": 45,
     "metadata": {},
     "output_type": "execute_result"
    }
   ],
   "source": [
    "squares = [x**2 for x in range(1, 11)]\n",
    "squares"
   ]
  },
  {
   "cell_type": "markdown",
   "id": "ac02549a",
   "metadata": {
    "id": "bea983a3"
   },
   "source": [
    "---\n",
    "\n",
    "### Exercise 12:\n",
    "Create a tuple of even numbers between 2 and 10 using a tuple comprehension."
   ]
  },
  {
   "cell_type": "code",
   "execution_count": 31,
   "id": "475f2738",
   "metadata": {},
   "outputs": [
    {
     "data": {
      "text/plain": [
       "(2, 4, 6, 8, 10)"
      ]
     },
     "execution_count": 31,
     "metadata": {},
     "output_type": "execute_result"
    }
   ],
   "source": [
    "even = 2,4,6,8,10\n",
    "tuple(even)"
   ]
  },
  {
   "cell_type": "code",
   "execution_count": 5,
   "id": "b7badaad",
   "metadata": {},
   "outputs": [
    {
     "name": "stdout",
     "output_type": "stream",
     "text": [
      "(2, 4, 6, 8, 10)\n"
     ]
    }
   ],
   "source": [
    "#Alternative method\n",
    "\n",
    "even =tuple(i for i in range(1,11) if i%2==0)\n",
    "print(even)"
   ]
  },
  {
   "cell_type": "markdown",
   "id": "1e869398",
   "metadata": {
    "id": "bea983a3"
   },
   "source": [
    "---\n",
    "\n",
    "### Exercise 13:\n",
    "Use a for loop to iterate through the list `fruits = [\"apple\", \"banana\", \"cherry\"]` and print each element."
   ]
  },
  {
   "cell_type": "code",
   "execution_count": 29,
   "id": "f56608f8",
   "metadata": {},
   "outputs": [
    {
     "name": "stdout",
     "output_type": "stream",
     "text": [
      "apple\n",
      "banana\n",
      "cherry\n"
     ]
    }
   ],
   "source": [
    "fruits = [\"apple\", \"banana\", \"cherry\"]\n",
    "\n",
    "for i in fruits:\n",
    "    print(i)"
   ]
  },
  {
   "cell_type": "markdown",
   "id": "a83fb154",
   "metadata": {
    "id": "bea983a3"
   },
   "source": [
    "---\n",
    "\n",
    "### Exercise 14:\n",
    "Check if the value `3` exists in the set `numbers = {1, 2, 3, 4, 5}`."
   ]
  },
  {
   "cell_type": "code",
   "execution_count": 28,
   "id": "b0ef371d",
   "metadata": {},
   "outputs": [
    {
     "name": "stdout",
     "output_type": "stream",
     "text": [
      "Value exists\n"
     ]
    }
   ],
   "source": [
    "numbers = {1, 2, 3, 4, 5}\n",
    "\n",
    "if 3 in numbers:\n",
    "    print(\"Value exists\")\n",
    "else:\n",
    "          print(\"Value does not exist\")"
   ]
  },
  {
   "cell_type": "markdown",
   "id": "0b0f99c2",
   "metadata": {
    "id": "bea983a3"
   },
   "source": [
    "---\n",
    "\n",
    "### Exercise 15:\n",
    "Use the `len()` function to find the length of the tuple `numbers = (10, 20, 30)`."
   ]
  },
  {
   "cell_type": "code",
   "execution_count": 41,
   "id": "59bac1da",
   "metadata": {},
   "outputs": [
    {
     "data": {
      "text/plain": [
       "3"
      ]
     },
     "execution_count": 41,
     "metadata": {},
     "output_type": "execute_result"
    }
   ],
   "source": [
    "numbers = (10, 20, 30)\n",
    "len(numbers)"
   ]
  },
  {
   "cell_type": "markdown",
   "id": "c102d8f6",
   "metadata": {
    "id": "bea983a3"
   },
   "source": [
    "---\n",
    "\n",
    "### Exercise 16:\n",
    "Add the value `100` at the end of the list `scores = [80, 85, 90, 95]`."
   ]
  },
  {
   "cell_type": "code",
   "execution_count": 40,
   "id": "ade89282",
   "metadata": {},
   "outputs": [
    {
     "data": {
      "text/plain": [
       "[80, 85, 90, 95, 100]"
      ]
     },
     "execution_count": 40,
     "metadata": {},
     "output_type": "execute_result"
    }
   ],
   "source": [
    "scores = [80, 85, 90, 95]\n",
    "scores.append(100)\n",
    "\n",
    "scores"
   ]
  },
  {
   "cell_type": "markdown",
   "id": "431a1ffe",
   "metadata": {
    "id": "bea983a3"
   },
   "source": [
    "---\n",
    "\n",
    "### Exercise 17:\n",
    "Write a function that takes a list as input and returns the sum of all elements in the list."
   ]
  },
  {
   "cell_type": "code",
   "execution_count": 3,
   "id": "9566818f",
   "metadata": {},
   "outputs": [],
   "source": [
    "def sum_list(input_list):\n",
    "    total = 0\n",
    "    \n",
    "    for item in input_list:\n",
    "        total += item\n",
    "        \n",
    "    return total"
   ]
  },
  {
   "cell_type": "code",
   "execution_count": 4,
   "id": "f9f1691a",
   "metadata": {},
   "outputs": [
    {
     "data": {
      "text/plain": [
       "7"
      ]
     },
     "execution_count": 4,
     "metadata": {},
     "output_type": "execute_result"
    }
   ],
   "source": [
    "my_sum = sum_list([1, 2 , 4])\n",
    "my_sum"
   ]
  },
  {
   "cell_type": "markdown",
   "id": "de125ca5",
   "metadata": {
    "id": "bea983a3"
   },
   "source": [
    "---\n",
    "\n",
    "### Exercise 18:\n",
    "Create a set containing the unique elements of the list `numbers = [1, 2, 2, 3, 4, 4, 5]`."
   ]
  },
  {
   "cell_type": "code",
   "execution_count": 3,
   "id": "357b7ecb",
   "metadata": {},
   "outputs": [
    {
     "data": {
      "text/plain": [
       "{1, 2, 3, 4, 5}"
      ]
     },
     "execution_count": 3,
     "metadata": {},
     "output_type": "execute_result"
    }
   ],
   "source": [
    "numbers = [1, 2, 2, 3, 4, 4, 5]\n",
    "unique = set(numbers)\n",
    "\n",
    "unique"
   ]
  },
  {
   "cell_type": "markdown",
   "id": "9dd3e03b",
   "metadata": {
    "id": "bea983a3"
   },
   "source": [
    "---\n",
    "\n",
    "### Exercise 19:\n",
    "Convert the string `\"hello\"` into a list of characters."
   ]
  },
  {
   "cell_type": "code",
   "execution_count": 36,
   "id": "65a8884d",
   "metadata": {},
   "outputs": [
    {
     "data": {
      "text/plain": [
       "['hello']"
      ]
     },
     "execution_count": 36,
     "metadata": {},
     "output_type": "execute_result"
    }
   ],
   "source": [
    "string = \"hello\"\n",
    "string.split()"
   ]
  },
  {
   "cell_type": "markdown",
   "id": "ee03bdc0",
   "metadata": {
    "id": "bea983a3"
   },
   "source": [
    "---\n",
    "\n",
    "### Exercise 20:\n",
    "Write a Python function that reverses a tuple `(1, 2, 3, 4)`."
   ]
  },
  {
   "cell_type": "code",
   "execution_count": 34,
   "id": "57e993d8",
   "metadata": {},
   "outputs": [
    {
     "data": {
      "text/plain": [
       "(4, 3, 2, 1)"
      ]
     },
     "execution_count": 34,
     "metadata": {},
     "output_type": "execute_result"
    }
   ],
   "source": [
    "tuplee = (1, 2, 3, 4)\n",
    "tuplee[::-1]"
   ]
  },
  {
   "cell_type": "markdown",
   "id": "17684bdf",
   "metadata": {
    "id": "bea983a3"
   },
   "source": [
    "---\n",
    "\n",
    "### Exercise 21:\n",
    "Merge two dictionaries `dict1 = {\"a\": 1, \"b\": 2}` and `dict2 = {\"c\": 3, \"d\": 4}` into a single dictionary."
   ]
  },
  {
   "cell_type": "code",
   "execution_count": 1,
   "id": "7d2d93f0",
   "metadata": {},
   "outputs": [
    {
     "data": {
      "text/plain": [
       "{'a': 1, 'b': 2, 'c': 3, 'd': 4}"
      ]
     },
     "execution_count": 1,
     "metadata": {},
     "output_type": "execute_result"
    }
   ],
   "source": [
    "dict1 = {\"a\": 1, \"b\": 2}\n",
    "dict2 = {\"c\": 3, \"d\": 4}\n",
    "\n",
    "dict3 = dict1 | dict2\n",
    "dict3"
   ]
  },
  {
   "cell_type": "markdown",
   "id": "7510cb37",
   "metadata": {
    "id": "bea983a3"
   },
   "source": [
    "---\n",
    "\n",
    "### Exercise 22:\n",
    "Create a dictionary where keys are numbers from 1 to 5, and values are their squares."
   ]
  },
  {
   "cell_type": "code",
   "execution_count": 49,
   "id": "0d906e37",
   "metadata": {},
   "outputs": [
    {
     "name": "stdout",
     "output_type": "stream",
     "text": [
      "{1: 1, 2: 4, 3: 9, 4: 16, 5: 25}\n"
     ]
    }
   ],
   "source": [
    "dictionary = {num: num**2 for num in range(1, 6)}\n",
    "print(dictionary)"
   ]
  },
  {
   "cell_type": "markdown",
   "id": "83e5e7e2",
   "metadata": {
    "id": "bea983a3"
   },
   "source": [
    "---\n",
    "\n",
    "### Exercise 23:\n",
    "Write a Python program to iterate through a dictionary and print each key-value pair."
   ]
  },
  {
   "cell_type": "code",
   "execution_count": 51,
   "id": "4828550f",
   "metadata": {},
   "outputs": [
    {
     "name": "stdout",
     "output_type": "stream",
     "text": [
      "name: Angelah\n",
      "surname: Gaolatlhe\n",
      "age: 32\n"
     ]
    }
   ],
   "source": [
    "dictionary = {\"name\": \"Angelah\", \"surname\": \"Gaolatlhe\", \"age\": 32}\n",
    "\n",
    "for key, value in dictionary.items():\n",
    "  \n",
    "    print(f\"{key}: {value}\")"
   ]
  },
  {
   "cell_type": "markdown",
   "id": "28e0deab",
   "metadata": {
    "id": "bea983a3"
   },
   "source": [
    "---\n",
    "\n",
    "### Exercise 24:\n",
    "Create a list of the first 5 letters of the alphabet using the `chr()` function."
   ]
  },
  {
   "cell_type": "code",
   "execution_count": 49,
   "id": "df1dbd32",
   "metadata": {},
   "outputs": [
    {
     "data": {
      "text/plain": [
       "97"
      ]
     },
     "execution_count": 49,
     "metadata": {},
     "output_type": "execute_result"
    }
   ],
   "source": [
    "ord(\"a\")"
   ]
  },
  {
   "cell_type": "code",
   "execution_count": 53,
   "id": "39eab035",
   "metadata": {},
   "outputs": [
    {
     "data": {
      "text/plain": [
       "101"
      ]
     },
     "execution_count": 53,
     "metadata": {},
     "output_type": "execute_result"
    }
   ],
   "source": [
    "ord(\"e\")"
   ]
  },
  {
   "cell_type": "code",
   "execution_count": 1,
   "id": "452c8feb",
   "metadata": {},
   "outputs": [
    {
     "data": {
      "text/plain": [
       "['a', 'b', 'c', 'd', 'e']"
      ]
     },
     "execution_count": 1,
     "metadata": {},
     "output_type": "execute_result"
    }
   ],
   "source": [
    "[chr(i) for i in range(97,102)]"
   ]
  },
  {
   "cell_type": "markdown",
   "id": "4f2ccc48",
   "metadata": {
    "id": "bea983a3"
   },
   "source": [
    "---\n",
    "\n",
    "### Exercise 25:\n",
    "Use the `zip()` function to combine two lists `[1, 2, 3]` and `[\"a\", \"b\", \"c\"]` into a list of tuples."
   ]
  },
  {
   "cell_type": "code",
   "execution_count": 29,
   "id": "d565db08",
   "metadata": {},
   "outputs": [
    {
     "name": "stdout",
     "output_type": "stream",
     "text": [
      "((1, 'a'), (2, 'b'), (3, 'c'))\n"
     ]
    }
   ],
   "source": [
    "list1 = [1,2,3]\n",
    "list2 = [\"a\",\"b\",\"c\"]\n",
    "\n",
    "zipped = zip(list1, list2)\n",
    "print(tuple(zipped))"
   ]
  },
  {
   "cell_type": "markdown",
   "id": "38ea0e49",
   "metadata": {
    "id": "bea983a3"
   },
   "source": [
    "---\n",
    "\n",
    "### Exercise 26:\n",
    "Find the index of the value `50` in the list `[10, 20, 30, 40, 50]`."
   ]
  },
  {
   "cell_type": "code",
   "execution_count": 11,
   "id": "4c644d26",
   "metadata": {},
   "outputs": [
    {
     "data": {
      "text/plain": [
       "4"
      ]
     },
     "execution_count": 11,
     "metadata": {},
     "output_type": "execute_result"
    }
   ],
   "source": [
    "liste = [10, 20, 30, 40, 50]\n",
    "liste.index(50)"
   ]
  },
  {
   "cell_type": "markdown",
   "id": "cdea2f35",
   "metadata": {
    "id": "bea983a3"
   },
   "source": [
    "---\n",
    "\n",
    "### Exercise 27:\n",
    "Sort the list `names = [\"Alice\", \"Bob\", \"Charlie\", \"David\"]` in alphabetical order."
   ]
  },
  {
   "cell_type": "code",
   "execution_count": 17,
   "id": "3014b563",
   "metadata": {},
   "outputs": [
    {
     "data": {
      "text/plain": [
       "['Alice', 'Bob', 'Charlie', 'David']"
      ]
     },
     "execution_count": 17,
     "metadata": {},
     "output_type": "execute_result"
    }
   ],
   "source": [
    "names = [\"Alice\", \"Bob\", \"Charlie\", \"David\"]\n",
    "names.sort()\n",
    "\n",
    "names"
   ]
  },
  {
   "cell_type": "markdown",
   "id": "03519bec",
   "metadata": {
    "id": "bea983a3"
   },
   "source": [
    "---\n",
    "\n",
    "### Exercise 28:\n",
    "Write a Python function that takes a list of integers as input and returns the largest number."
   ]
  },
  {
   "cell_type": "code",
   "execution_count": 2,
   "id": "9e751f08",
   "metadata": {},
   "outputs": [
    {
     "data": {
      "text/plain": [
       "9"
      ]
     },
     "execution_count": 2,
     "metadata": {},
     "output_type": "execute_result"
    }
   ],
   "source": [
    "list_1 = [1, 2, 8, 9, 3]\n",
    "\n",
    "find_largest = lambda nums: max(nums) if nums else None\n",
    "\n",
    "find_largest(list_1)  "
   ]
  },
  {
   "cell_type": "markdown",
   "id": "92181677",
   "metadata": {
    "id": "bea983a3"
   },
   "source": [
    "---\n",
    "\n",
    "### Exercise 29:\n",
    "Use the `count()` method to count how many times `\"apple\"` appears in the list `fruits = [\"apple\", \"banana\", \"apple\", \"orange\"]`."
   ]
  },
  {
   "cell_type": "markdown",
   "id": "68b4dcf3",
   "metadata": {
    "id": "bea983a3"
   },
   "source": [
    "---\n",
    "\n",
    "### Exercise 30:\n",
    "Create a dictionary `person` where keys are `\"name\"`, `\"age\"`, and `\"city\"`, and values are `\"Alice\"`, `25`, and `\"New York\"` respectively. Then access the value of the `\"city\"` key."
   ]
  },
  {
   "cell_type": "markdown",
   "id": "8d803b0f",
   "metadata": {
    "id": "bea983a3"
   },
   "source": [
    "---\n",
    "\n",
    "### Exercise 31:\n",
    "Write a Python function that takes a list as input and returns a new list with all duplicates removed."
   ]
  },
  {
   "cell_type": "code",
   "execution_count": 68,
   "id": "88bb76e9",
   "metadata": {},
   "outputs": [
    {
     "data": {
      "text/plain": [
       "[1, 1, 4, 5, 7]"
      ]
     },
     "execution_count": 68,
     "metadata": {},
     "output_type": "execute_result"
    }
   ],
   "source": [
    "liste = [1,1,4,5,7]\n",
    "\n",
    "def duplicate_eliminator(liste):\n",
    "    return list( set(liste))\n",
    "\n",
    "liste"
   ]
  },
  {
   "cell_type": "markdown",
   "id": "b1bf1203",
   "metadata": {
    "id": "bea983a3"
   },
   "source": [
    "---\n",
    "\n",
    "### Exercise 32:\n",
    "Write a Python function that takes two lists and returns their intersection."
   ]
  },
  {
   "cell_type": "markdown",
   "id": "3dad702d",
   "metadata": {
    "id": "bea983a3"
   },
   "source": [
    "---\n",
    "\n",
    "### Exercise 33:\n",
    "Create a generator that yields the squares of numbers from 1 to 10."
   ]
  },
  {
   "cell_type": "code",
   "execution_count": null,
   "id": "5ff4c0de",
   "metadata": {},
   "outputs": [],
   "source": []
  },
  {
   "cell_type": "markdown",
   "id": "346a7bfb",
   "metadata": {
    "id": "bea983a3"
   },
   "source": [
    "---\n",
    "\n",
    "### Exercise 34:\n",
    "Write a Python function that takes a dictionary as input and returns the sum of all its values."
   ]
  },
  {
   "cell_type": "code",
   "execution_count": 30,
   "id": "c767b52a",
   "metadata": {},
   "outputs": [
    {
     "name": "stdout",
     "output_type": "stream",
     "text": [
      "Write your dictionary:{\"age\":23,\"height\":1.62}\n"
     ]
    },
    {
     "ename": "ValueError",
     "evalue": "dictionary update sequence element #0 has length 1; 2 is required",
     "output_type": "error",
     "traceback": [
      "\u001b[0;31m---------------------------------------------------------------------------\u001b[0m",
      "\u001b[0;31mValueError\u001b[0m                                Traceback (most recent call last)",
      "\u001b[0;32m/tmp/ipykernel_10560/57281168.py\u001b[0m in \u001b[0;36m<module>\u001b[0;34m\u001b[0m\n\u001b[0;32m----> 1\u001b[0;31m \u001b[0mdict1\u001b[0m \u001b[0;34m=\u001b[0m \u001b[0mdict\u001b[0m\u001b[0;34m(\u001b[0m\u001b[0minput\u001b[0m\u001b[0;34m(\u001b[0m\u001b[0;34m\"Write your dictionary:\"\u001b[0m\u001b[0;34m)\u001b[0m\u001b[0;34m)\u001b[0m\u001b[0;34m\u001b[0m\u001b[0;34m\u001b[0m\u001b[0m\n\u001b[0m\u001b[1;32m      2\u001b[0m \u001b[0mprint\u001b[0m\u001b[0;34m(\u001b[0m\u001b[0msum\u001b[0m\u001b[0;34m(\u001b[0m\u001b[0mdict1\u001b[0m\u001b[0;34m)\u001b[0m\u001b[0;34m)\u001b[0m\u001b[0;34m\u001b[0m\u001b[0;34m\u001b[0m\u001b[0m\n",
      "\u001b[0;31mValueError\u001b[0m: dictionary update sequence element #0 has length 1; 2 is required"
     ]
    }
   ],
   "source": [
    "dict1 = dict(input(\"Write your dictionary:\"))\n",
    "print(sum(dict1))"
   ]
  },
  {
   "cell_type": "markdown",
   "id": "d868a21a",
   "metadata": {
    "id": "bea983a3"
   },
   "source": [
    "---\n",
    "\n",
    "### Exercise 35:\n",
    "Use the `sorted()` function to sort the list `[3, 1, 4, 1, 5, 9]` in ascending order."
   ]
  },
  {
   "cell_type": "code",
   "execution_count": 29,
   "id": "ffc71ae2",
   "metadata": {},
   "outputs": [
    {
     "data": {
      "text/plain": [
       "[1, 1, 3, 4, 5, 9]"
      ]
     },
     "execution_count": 29,
     "metadata": {},
     "output_type": "execute_result"
    }
   ],
   "source": [
    "liste = [3, 1, 4, 1, 5, 9]\n",
    "sorted(liste)"
   ]
  },
  {
   "cell_type": "markdown",
   "id": "7f9957f3",
   "metadata": {
    "id": "bea983a3"
   },
   "source": [
    "---\n",
    "\n",
    "### Exercise 36:\n",
    "Write a Python function that takes a list of strings as input and returns the longest string."
   ]
  },
  {
   "cell_type": "code",
   "execution_count": null,
   "id": "17ec4549",
   "metadata": {},
   "outputs": [],
   "source": [
    "random = [\"Cindrella\", \"carrot\", \"serpent\"]\n",
    "for x in random:\n"
   ]
  },
  {
   "cell_type": "markdown",
   "id": "756cc55e",
   "metadata": {
    "id": "bea983a3"
   },
   "source": [
    "---\n",
    "\n",
    "### Exercise 37:\n",
    "Check if all the elements in the list `[1, 2, 3, 4, 5]` are greater than 0 using the `all()` function."
   ]
  },
  {
   "cell_type": "code",
   "execution_count": 25,
   "id": "ad865377",
   "metadata": {},
   "outputs": [
    {
     "name": "stdout",
     "output_type": "stream",
     "text": [
      "Yes\n"
     ]
    }
   ],
   "source": [
    "liste = [1, 2, 3, 4, 5]\n",
    "if all(liste) > 0:\n",
    "    print(\"Yes\")\n",
    "else:\n",
    "    print(\"No\")\n",
    "    "
   ]
  },
  {
   "cell_type": "markdown",
   "id": "392caba4",
   "metadata": {
    "id": "bea983a3"
   },
   "source": [
    "---\n",
    "\n",
    "### Exercise 38:\n",
    "Create a list of tuples where each tuple contains a number and its square for numbers from 1 to 5."
   ]
  },
  {
   "cell_type": "code",
   "execution_count": 21,
   "id": "b92b64f8",
   "metadata": {},
   "outputs": [
    {
     "data": {
      "text/plain": [
       "[(1, 1), (2, 4), (3, 9), (4, 16), (5, 25)]"
      ]
     },
     "execution_count": 21,
     "metadata": {},
     "output_type": "execute_result"
    }
   ],
   "source": [
    "a=1\n",
    "b=2\n",
    "c=3\n",
    "d=4\n",
    "e=5\n",
    "\n",
    "tuple1 = (a,a**2)\n",
    "tuple2 = (b,b**2)\n",
    "tuple3 = (c,c**2)\n",
    "tuple4 = (d,d**2)\n",
    "tuple5 = (e,e**2)\n",
    "\n",
    "[tuple1,tuple2,tuple3,tuple4,tuple5]"
   ]
  },
  {
   "cell_type": "markdown",
   "id": "ed4851ee",
   "metadata": {
    "id": "bea983a3"
   },
   "source": [
    "---\n",
    "\n",
    "### Exercise 39:\n",
    "Write a Python function that takes a list of tuples and returns a list of the second elements from each tuple.\n",
    "\n",
    "```python\n",
    "# Exercise 39\n",
    "```\n",
    "\n",
    "---\n",
    "\n",
    "### Exercise 40:\n",
    "Write a Python function that flattens a list of lists into a single list.\n",
    "\n",
    "```python\n",
    "# Exercise 40\n",
    "```\n",
    "\n",
    "---\n",
    "\n",
    "### Exercise 41:\n",
    "Use the `enumerate()` function to iterate through the list `[\"apple\", \"banana\", \"cherry\"]` and print the index and value.\n",
    "\n",
    "```python\n",
    "# Exercise 41\n",
    "```"
   ]
  },
  {
   "cell_type": "markdown",
   "id": "35c0a9fb",
   "metadata": {
    "id": "bea983a3"
   },
   "source": [
    "---\n",
    "\n",
    "### Exercise 42:\n",
    "Write a Python program that checks if a tuple is empty."
   ]
  },
  {
   "cell_type": "code",
   "execution_count": null,
   "id": "45a8e6b7",
   "metadata": {},
   "outputs": [],
   "source": []
  },
  {
   "cell_type": "markdown",
   "id": "4ae4a21b",
   "metadata": {
    "id": "bea983a3"
   },
   "source": [
    "---\n",
    "\n",
    "### Exercise 43:\n",
    "Create a list of even numbers between 1 and 20 using the `range()` function.\n",
    "\n",
    "```python\n",
    "# Exercise 43\n",
    "```\n",
    "\n",
    "---\n",
    "\n",
    "### Exercise 44:\n",
    "Write a Python function that takes a list of numbers as input and returns the list in reverse order.\n",
    "\n",
    "```python\n",
    "# Exercise 44\n",
    "```\n",
    "\n",
    "---\n",
    "\n",
    "### Exercise 45:\n",
    "Create a dictionary comprehension that maps numbers from 1 to 5 to their cubes.\n",
    "\n",
    "```python\n",
    "# Exercise 45\n",
    "```"
   ]
  },
  {
   "cell_type": "markdown",
   "id": "c36086bc",
   "metadata": {
    "id": "bea983a3"
   },
   "source": [
    "---\n",
    "\n",
    "### Exercise 46:\n",
    "Write a Python program that creates a new list containing only the unique elements of the list `[1, 2, 2, 3, 4, 4, 5]`."
   ]
  },
  {
   "cell_type": "code",
   "execution_count": 61,
   "id": "9e574881",
   "metadata": {},
   "outputs": [
    {
     "data": {
      "text/plain": [
       "[1, 2, 3, 4, 5]"
      ]
     },
     "execution_count": 61,
     "metadata": {},
     "output_type": "execute_result"
    }
   ],
   "source": [
    "liste = [1, 2, 2, 3, 4, 4, 5]\n",
    "new_liste = set(liste)\n",
    "new_liste = list(new_liste)\n",
    "\n",
    "new_liste"
   ]
  },
  {
   "cell_type": "markdown",
   "id": "4f49791d",
   "metadata": {
    "id": "bea983a3"
   },
   "source": [
    "---\n",
    "\n",
    "### Exercise 47:\n",
    "Write a Python function that takes a list of dictionaries and returns a list of the values for a given key.\n",
    "\n",
    "```python\n",
    "# Exercise 47\n",
    "```\n",
    "\n",
    "---\n",
    "\n",
    "### Exercise 48:\n",
    "Write a Python function that uses a generator to yield the Fibonacci sequence up to `n` terms.\n",
    "\n",
    "```python\n",
    "# Exercise 48\n",
    "```\n",
    "\n",
    "---\n",
    "\n",
    "### Exercise 49:\n",
    "Write a Python function that takes a string and returns a list of all unique characters in the string.\n",
    "\n",
    "```python\n",
    "# Exercise 49\n",
    "```\n",
    "\n",
    "---\n",
    "\n",
    "### Exercise 50:\n",
    "Write a Python function that merges two sorted lists into a single sorted list.\n",
    "\n",
    "```python\n",
    "# Exercise 50\n",
    "```\n",
    "\n",
    "---\n",
    "\n",
    "### Exercise 51:\n",
    "Use the\n",
    "\n",
    " `filter()` function to filter out odd numbers from the list `[1, 2, 3, 4, 5, 6]`.\n",
    "\n",
    "```python\n",
    "# Exercise 51\n",
    "```\n",
    "\n",
    "---\n",
    "\n",
    "### Exercise 52:\n",
    "Write a Python program that converts a list of tuples `[(1, 2), (3, 4), (5, 6)]` into a dictionary.\n",
    "\n",
    "```python\n",
    "# Exercise 52\n",
    "```\n",
    "\n",
    "---\n",
    "\n",
    "### Exercise 53:\n",
    "Write a Python function that takes two sets and returns their symmetric difference.\n",
    "\n",
    "```python\n",
    "# Exercise 53\n",
    "```\n",
    "\n",
    "---\n",
    "\n",
    "### Exercise 54:\n",
    "Write a Python program that finds the common elements in three lists `list1`, `list2`, and `list3`.\n",
    "\n",
    "```python\n",
    "# Exercise 54\n",
    "```\n",
    "\n",
    "---\n",
    "\n",
    "### Exercise 55:\n",
    "Write a Python function that returns the factorial of a number using recursion.\n",
    "\n",
    "```python\n",
    "# Exercise 55\n",
    "```\n",
    "\n",
    "---\n",
    "\n",
    "### Exercise 56:\n",
    "Write a Python program that removes all empty strings from the list `[\"apple\", \"\", \"banana\", \"\", \"cherry\"]`.\n",
    "\n",
    "```python\n",
    "# Exercise 56\n",
    "```\n",
    "\n",
    "---\n",
    "\n",
    "### Exercise 57:\n",
    "Write a Python function that takes a dictionary and returns a new dictionary with the keys and values swapped.\n",
    "\n",
    "```python\n",
    "# Exercise 57\n",
    "```\n",
    "\n",
    "---\n",
    "\n",
    "### Exercise 58:\n",
    "Write a Python function that takes a list of integers and returns a new list with only the even numbers.\n",
    "\n",
    "```python\n",
    "# Exercise 58\n",
    "```\n",
    "\n",
    "---\n",
    "\n",
    "### Exercise 59:\n",
    "Write a Python function that takes a list of tuples and returns a list of the first elements of each tuple.\n",
    "\n",
    "```python\n",
    "# Exercise 59\n",
    "```\n",
    "\n",
    "---\n",
    "\n",
    "### Exercise 60:\n",
    "Write a Python program that removes duplicates from a list without changing the order of elements.\n",
    "\n",
    "```python\n",
    "# Exercise 60\n",
    "```\n",
    "\n",
    "---\n",
    "\n",
    "### Exercise 61:\n",
    "Use the `map()` function to convert a list of strings to a list of their lengths.\n",
    "\n",
    "```python\n",
    "# Exercise 61\n",
    "```\n",
    "\n",
    "---\n",
    "\n",
    "### Exercise 62:\n",
    "Write a Python program that calculates the average of a list of numbers.\n",
    "\n",
    "```python\n",
    "# Exercise 62\n",
    "```\n",
    "\n",
    "---\n",
    "\n",
    "### Exercise 63:\n",
    "Write a Python function that generates a list of the first `n` Fibonacci numbers.\n",
    "\n",
    "```python\n",
    "# Exercise 63\n",
    "```\n",
    "\n",
    "---\n",
    "\n",
    "### Exercise 64:\n",
    "Write a Python program that counts how many times each element appears in the list `[\"apple\", \"banana\", \"apple\", \"cherry\"]`.\n",
    "\n",
    "```python\n",
    "# Exercise 64\n",
    "```\n",
    "\n",
    "---\n",
    "\n",
    "### Exercise 65:\n",
    "Write a Python program that removes all occurrences of a specific value from a list.\n",
    "\n",
    "```python\n",
    "# Exercise 65\n",
    "```\n",
    "\n",
    "---\n",
    "\n",
    "### Exercise 66:\n",
    "Write a Python function that takes a list of strings and returns a list of the strings that start with a vowel.\n",
    "\n",
    "```python\n",
    "# Exercise 66\n",
    "```\n",
    "\n",
    "---\n",
    "\n",
    "### Exercise 67:\n",
    "Write a Python program that finds the intersection of two sets `set1` and `set2`.\n",
    "\n",
    "```python\n",
    "# Exercise 67\n",
    "```\n",
    "\n",
    "---\n",
    "\n",
    "### Exercise 68:\n",
    "Write a Python function that flattens a nested list.\n",
    "\n",
    "```python\n",
    "# Exercise 68\n",
    "```\n",
    "\n",
    "---\n",
    "\n",
    "### Exercise 69:\n",
    "Write a Python program that checks if all the elements in a list are unique.\n",
    "\n",
    "```python\n",
    "# Exercise 69\n",
    "```\n",
    "\n",
    "---\n",
    "\n",
    "### Exercise 70:\n",
    "Use the `reduce()` function from the `functools` module to multiply all elements in a list.\n",
    "\n",
    "```python\n",
    "# Exercise 70\n",
    "```\n",
    "\n",
    "---\n",
    "\n",
    "### Exercise 71:\n",
    "Write a Python function that takes a list of strings and returns a dictionary where keys are strings and values are their lengths.\n",
    "\n",
    "```python\n",
    "# Exercise 71\n",
    "```\n",
    "\n",
    "---\n",
    "\n",
    "### Exercise 72:\n",
    "Write a Python program that counts the number of vowels in a string.\n",
    "\n",
    "```python\n",
    "# Exercise 72\n",
    "```\n",
    "\n",
    "---\n",
    "\n",
    "### Exercise 73:\n",
    "Create a list of tuples where each tuple contains a number from 1 to 5 and its factorial.\n",
    "\n",
    "```python\n",
    "# Exercise 73\n",
    "```\n",
    "\n",
    "---\n",
    "\n",
    "### Exercise 74:\n",
    "Write a Python program that converts a list of dictionaries into a single dictionary by merging them.\n",
    "\n",
    "```python\n",
    "# Exercise 74\n",
    "```\n",
    "\n",
    "---\n",
    "\n",
    "### Exercise 75:\n",
    "Write a Python function that checks if a set is a subset of another set.\n",
    "\n",
    "```python\n",
    "# Exercise 75\n",
    "```\n",
    "\n",
    "---\n",
    "\n",
    "### Exercise 76:\n",
    "Write a Python program that sorts a list of tuples based on the second element in each tuple.\n",
    "\n",
    "```python\n",
    "# Exercise 76\n",
    "```\n",
    "\n",
    "---\n",
    "\n",
    "### Exercise 77:\n",
    "Write a Python function that takes a list of integers and returns a new list with only the positive integers.\n",
    "\n",
    "```python\n",
    "# Exercise 77\n",
    "```\n",
    "\n",
    "---\n",
    "\n",
    "### Exercise 78:\n",
    "Write a Python function that takes two sets and returns their union.\n",
    "\n",
    "```python\n",
    "# Exercise 78\n",
    "```\n",
    "\n",
    "---\n",
    "\n",
    "### Exercise 79:\n",
    "Write a Python function that takes a list of numbers and returns the product of all the numbers.\n",
    "\n",
    "```python\n",
    "# Exercise 79\n",
    "```\n",
    "\n",
    "---\n",
    "\n",
    "### Exercise 80:\n",
    "Write a Python program that converts a list of characters into a string.\n",
    "\n",
    "```python\n",
    "# Exercise 80\n",
    "```\n",
    "\n",
    "---\n",
    "\n",
    "### Exercise 81:\n",
    "Write a Python program that finds the second largest number in a list of integers.\n",
    "\n",
    "```python\n",
    "# Exercise 81\n",
    "```\n",
    "\n",
    "---\n",
    "\n",
    "### Exercise 82:\n",
    "Write a Python function that takes a dictionary and returns a list of its keys in sorted order.\n",
    "\n",
    "```python\n",
    "# Exercise 82\n",
    "```\n",
    "\n",
    "---\n",
    "\n",
    "### Exercise 83:\n",
    "Write a Python program that finds the most common element in a list.\n",
    "\n",
    "```python\n",
    "# Exercise 83\n",
    "```\n",
    "\n",
    "---\n",
    "\n",
    "### Exercise 84:\n",
    "Write a Python function that takes a list of tuples and returns a list of the tuples sorted by the first element.\n",
    "\n",
    "```python\n",
    "# Exercise 84\n",
    "```\n",
    "\n",
    "---\n",
    "\n",
    "### Exercise 85:\n",
    "Write a Python program that removes duplicates from a list of dictionaries.\n",
    "\n",
    "```python\n",
    "# Exercise 85\n",
    "```\n",
    "\n",
    "---\n",
    "\n",
    "### Exercise 86:\n",
    "Write a Python function that takes a list of numbers and returns the minimum and maximum numbers in the list.\n",
    "\n",
    "```python\n",
    "# Exercise 86\n",
    "```\n",
    "\n",
    "---\n",
    "\n",
    "### Exercise 87:\n",
    "Write a Python program that creates a list of tuples from two lists.\n",
    "\n",
    "```python\n",
    "# Exercise 87\n",
    "```\n",
    "\n",
    "---\n",
    "\n",
    "### Exercise 88:\n",
    "Write a Python function that takes a list of strings and returns a list of the strings in reverse order.\n",
    "\n",
    "```python\n",
    "# Exercise 88\n",
    "```\n",
    "\n",
    "---\n",
    "\n",
    "### Exercise 89:\n",
    "Write a Python function that takes a list of integers and returns the sum of all odd numbers.\n",
    "\n",
    "```python\n",
    "# Exercise 89\n",
    "```\n",
    "\n",
    "---\n",
    "\n",
    "### Exercise 90:\n",
    "Write a Python program that checks if a string is a palindrome.\n",
    "\n",
    "```python\n",
    "# Exercise 90\n",
    "```\n",
    "\n",
    "---\n",
    "\n",
    "### Exercise 91:\n",
    "Write a Python program that finds the median of a list of numbers.\n",
    "\n",
    "```python\n",
    "# Exercise 91\n",
    "```\n",
    "\n",
    "---\n",
    "\n",
    "### Exercise 92:\n",
    "Write a Python function that takes a list of dictionaries and returns a dictionary with the total value for each key.\n",
    "\n",
    "```python\n",
    "# Exercise 92\n",
    "```"
   ]
  },
  {
   "cell_type": "markdown",
   "id": "6e2893ba",
   "metadata": {
    "id": "bea983a3"
   },
   "source": [
    "---\n",
    "\n",
    "### Exercise 93:\n",
    "Write a Python program that calculates the mode of a list of numbers.\n",
    "\n",
    "```python\n",
    "# Exercise 93\n",
    "```"
   ]
  },
  {
   "cell_type": "markdown",
   "id": "2b7880e3",
   "metadata": {
    "id": "bea983a3"
   },
   "source": [
    "---\n",
    "\n",
    "### Exercise 94:\n",
    "Write a Python function that takes a list of numbers and returns the sum of the squares of all the numbers.\n",
    "\n",
    "```python\n",
    "# Exercise 94\n",
    "```"
   ]
  },
  {
   "cell_type": "markdown",
   "id": "dc6b5e5c",
   "metadata": {
    "id": "bea983a3"
   },
   "source": [
    "---\n",
    "\n",
    "### Exercise 95:\n",
    "Write a Python program that creates a list of tuples, where each tuple contains a number and its cube for numbers from 1 to 5.\n",
    "\n",
    "```python\n",
    "# Exercise 95\n",
    "```"
   ]
  },
  {
   "cell_type": "markdown",
   "id": "4ebc827b",
   "metadata": {
    "id": "bea983a3"
   },
   "source": [
    "---\n",
    "\n",
    "### Exercise 96:\n",
    "Write a Python function that returns a list of all prime numbers up to `n`.\n",
    "\n",
    "```python\n",
    "# Exercise 96\n",
    "```"
   ]
  },
  {
   "cell_type": "markdown",
   "id": "e1aab11d",
   "metadata": {
    "id": "bea983a3"
   },
   "source": [
    "---\n",
    "\n",
    "### Exercise 97:\n",
    "Write a Python program that finds the common keys between two dictionaries.\n",
    "\n",
    "```python\n",
    "# Exercise 97\n",
    "```"
   ]
  },
  {
   "cell_type": "markdown",
   "id": "0ffbea84",
   "metadata": {
    "id": "bea983a3"
   },
   "source": [
    "---\n",
    "\n",
    "### Exercise 98:\n",
    "Write a Python function that takes a list of strings and returns a list of the strings that contain more than 5 characters.\n",
    "\n",
    "```python\n",
    "# Exercise 98\n",
    "```"
   ]
  },
  {
   "cell_type": "markdown",
   "id": "09dcabab",
   "metadata": {
    "id": "bea983a3"
   },
   "source": [
    "---\n",
    "\n",
    "### Exercise 99:\n",
    "Write a Python program that converts a list of strings into a list of tuples, where each tuple contains the string and its length.\n",
    "\n",
    "```python\n",
    "# Exercise 99\n",
    "```"
   ]
  },
  {
   "cell_type": "markdown",
   "id": "bea983a3",
   "metadata": {
    "id": "bea983a3"
   },
   "source": [
    "---\n",
    "\n",
    "### Exercise 100:\n",
    "Write a Python function that takes a list of dictionaries and returns a new dictionary by summing the values of each key across all dictionaries."
   ]
  },
  {
   "cell_type": "code",
   "execution_count": null,
   "id": "00a9c3db",
   "metadata": {},
   "outputs": [],
   "source": [
    "dict_1 = {\"name\": \"Angelah\", \"surname\": \"Gaolatlhe\"}\n",
    "dict_2 = {\"name\": \"Angelah\", \"surname\": \"Gaolatlhe\"}"
   ]
  }
 ],
 "metadata": {
  "colab": {
   "provenance": []
  },
  "kernelspec": {
   "display_name": "Python 3 (ipykernel)",
   "language": "python",
   "name": "python3"
  },
  "language_info": {
   "codemirror_mode": {
    "name": "ipython",
    "version": 3
   },
   "file_extension": ".py",
   "mimetype": "text/x-python",
   "name": "python",
   "nbconvert_exporter": "python",
   "pygments_lexer": "ipython3",
   "version": "3.12.3"
  }
 },
 "nbformat": 4,
 "nbformat_minor": 5
}
